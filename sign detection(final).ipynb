{
 "cells": [
  {
   "cell_type": "code",
   "execution_count": 1,
   "id": "2f1cf4f3",
   "metadata": {},
   "outputs": [],
   "source": [
    "from keras.preprocessing.image import ImageDataGenerator\n",
    "from keras.preprocessing import image\n",
    "from keras.applications import imagenet_utils\n",
    "from keras.applications import vgg16\n",
    "from tensorflow.keras.optimizers import Adam, SGD\n",
    "from keras.metrics import categorical_crossentropy\n",
    "\n",
    "from keras.layers import Dense, Flatten, Dropout, BatchNormalization\n",
    "from keras.models import Model\n",
    "\n",
    "from sklearn.metrics import confusion_matrix\n",
    "import itertools\n",
    "import matplotlib.pyplot as plt\n",
    "%matplotlib inline"
   ]
  },
  {
   "cell_type": "code",
   "execution_count": 2,
   "id": "f0c5c0b2",
   "metadata": {},
   "outputs": [],
   "source": [
    "train_path  = 'C:/Users/subeh/OneDrive/Desktop/deep_learning_for_vision_systems/chapter_06/sign_language_project/dataset/train'\n",
    "valid_path  = 'C:/Users/subeh/OneDrive/Desktop/deep_learning_for_vision_systems/chapter_06/sign_language_project/dataset/valid'\n",
    "test_path  = 'C:/Users/subeh/OneDrive/Desktop/deep_learning_for_vision_systems/chapter_06/sign_language_project/dataset/test'"
   ]
  },
  {
   "cell_type": "code",
   "execution_count": 3,
   "id": "5a83bd51",
   "metadata": {},
   "outputs": [
    {
     "name": "stdout",
     "output_type": "stream",
     "text": [
      "Found 1712 images belonging to 10 classes.\n",
      "Found 300 images belonging to 10 classes.\n",
      "Found 50 images belonging to 10 classes.\n"
     ]
    }
   ],
   "source": [
    "# ImageDataGenerator generates batches of tensor image data with real-time data augmentation. \n",
    "# The data will be looped over (in batches).\n",
    "# in this example, we won't be doing any image augmentation\n",
    "train_batches = ImageDataGenerator().flow_from_directory(train_path, \n",
    "                                                         target_size=(224,224), \n",
    "                                                         batch_size=10)\n",
    "\n",
    "valid_batches = ImageDataGenerator().flow_from_directory(valid_path,\n",
    "                                                         target_size=(224,224), \n",
    "                                                         batch_size=30)\n",
    "\n",
    "test_batches = ImageDataGenerator().flow_from_directory(test_path, \n",
    "                                                        target_size=(224,224), \n",
    "                                                        batch_size=50, \n",
    "                                                        shuffle=False)"
   ]
  },
  {
   "cell_type": "code",
   "execution_count": 4,
   "id": "fab3400b",
   "metadata": {},
   "outputs": [
    {
     "name": "stdout",
     "output_type": "stream",
     "text": [
      "Model: \"vgg16\"\n",
      "_________________________________________________________________\n",
      " Layer (type)                Output Shape              Param #   \n",
      "=================================================================\n",
      " input_1 (InputLayer)        [(None, 224, 224, 3)]     0         \n",
      "                                                                 \n",
      " block1_conv1 (Conv2D)       (None, 224, 224, 64)      1792      \n",
      "                                                                 \n",
      " block1_conv2 (Conv2D)       (None, 224, 224, 64)      36928     \n",
      "                                                                 \n",
      " block1_pool (MaxPooling2D)  (None, 112, 112, 64)      0         \n",
      "                                                                 \n",
      " block2_conv1 (Conv2D)       (None, 112, 112, 128)     73856     \n",
      "                                                                 \n",
      " block2_conv2 (Conv2D)       (None, 112, 112, 128)     147584    \n",
      "                                                                 \n",
      " block2_pool (MaxPooling2D)  (None, 56, 56, 128)       0         \n",
      "                                                                 \n",
      " block3_conv1 (Conv2D)       (None, 56, 56, 256)       295168    \n",
      "                                                                 \n",
      " block3_conv2 (Conv2D)       (None, 56, 56, 256)       590080    \n",
      "                                                                 \n",
      " block3_conv3 (Conv2D)       (None, 56, 56, 256)       590080    \n",
      "                                                                 \n",
      " block3_pool (MaxPooling2D)  (None, 28, 28, 256)       0         \n",
      "                                                                 \n",
      " block4_conv1 (Conv2D)       (None, 28, 28, 512)       1180160   \n",
      "                                                                 \n",
      " block4_conv2 (Conv2D)       (None, 28, 28, 512)       2359808   \n",
      "                                                                 \n",
      " block4_conv3 (Conv2D)       (None, 28, 28, 512)       2359808   \n",
      "                                                                 \n",
      " block4_pool (MaxPooling2D)  (None, 14, 14, 512)       0         \n",
      "                                                                 \n",
      " block5_conv1 (Conv2D)       (None, 14, 14, 512)       2359808   \n",
      "                                                                 \n",
      " block5_conv2 (Conv2D)       (None, 14, 14, 512)       2359808   \n",
      "                                                                 \n",
      " block5_conv3 (Conv2D)       (None, 14, 14, 512)       2359808   \n",
      "                                                                 \n",
      " block5_pool (MaxPooling2D)  (None, 7, 7, 512)         0         \n",
      "                                                                 \n",
      " global_average_pooling2d (G  (None, 512)              0         \n",
      " lobalAveragePooling2D)                                          \n",
      "                                                                 \n",
      "=================================================================\n",
      "Total params: 14,714,688\n",
      "Trainable params: 14,714,688\n",
      "Non-trainable params: 0\n",
      "_________________________________________________________________\n"
     ]
    }
   ],
   "source": [
    "base_model = vgg16.VGG16(weights = \"imagenet\", include_top=False, input_shape = (224,224, 3), pooling='avg')\n",
    "base_model.summary()"
   ]
  },
  {
   "cell_type": "code",
   "execution_count": 5,
   "id": "76dc22e8",
   "metadata": {},
   "outputs": [
    {
     "name": "stdout",
     "output_type": "stream",
     "text": [
      "Model: \"vgg16\"\n",
      "_________________________________________________________________\n",
      " Layer (type)                Output Shape              Param #   \n",
      "=================================================================\n",
      " input_1 (InputLayer)        [(None, 224, 224, 3)]     0         \n",
      "                                                                 \n",
      " block1_conv1 (Conv2D)       (None, 224, 224, 64)      1792      \n",
      "                                                                 \n",
      " block1_conv2 (Conv2D)       (None, 224, 224, 64)      36928     \n",
      "                                                                 \n",
      " block1_pool (MaxPooling2D)  (None, 112, 112, 64)      0         \n",
      "                                                                 \n",
      " block2_conv1 (Conv2D)       (None, 112, 112, 128)     73856     \n",
      "                                                                 \n",
      " block2_conv2 (Conv2D)       (None, 112, 112, 128)     147584    \n",
      "                                                                 \n",
      " block2_pool (MaxPooling2D)  (None, 56, 56, 128)       0         \n",
      "                                                                 \n",
      " block3_conv1 (Conv2D)       (None, 56, 56, 256)       295168    \n",
      "                                                                 \n",
      " block3_conv2 (Conv2D)       (None, 56, 56, 256)       590080    \n",
      "                                                                 \n",
      " block3_conv3 (Conv2D)       (None, 56, 56, 256)       590080    \n",
      "                                                                 \n",
      " block3_pool (MaxPooling2D)  (None, 28, 28, 256)       0         \n",
      "                                                                 \n",
      " block4_conv1 (Conv2D)       (None, 28, 28, 512)       1180160   \n",
      "                                                                 \n",
      " block4_conv2 (Conv2D)       (None, 28, 28, 512)       2359808   \n",
      "                                                                 \n",
      " block4_conv3 (Conv2D)       (None, 28, 28, 512)       2359808   \n",
      "                                                                 \n",
      " block4_pool (MaxPooling2D)  (None, 14, 14, 512)       0         \n",
      "                                                                 \n",
      " block5_conv1 (Conv2D)       (None, 14, 14, 512)       2359808   \n",
      "                                                                 \n",
      " block5_conv2 (Conv2D)       (None, 14, 14, 512)       2359808   \n",
      "                                                                 \n",
      " block5_conv3 (Conv2D)       (None, 14, 14, 512)       2359808   \n",
      "                                                                 \n",
      " block5_pool (MaxPooling2D)  (None, 7, 7, 512)         0         \n",
      "                                                                 \n",
      " global_average_pooling2d (G  (None, 512)              0         \n",
      " lobalAveragePooling2D)                                          \n",
      "                                                                 \n",
      "=================================================================\n",
      "Total params: 14,714,688\n",
      "Trainable params: 14,454,528\n",
      "Non-trainable params: 260,160\n",
      "_________________________________________________________________\n"
     ]
    }
   ],
   "source": [
    "# iterate through its layers and lock them to make them not trainable with this code\n",
    "for layer in base_model.layers[:-13]:\n",
    "    layer.trainable = False\n",
    "\n",
    "base_model.summary()"
   ]
  },
  {
   "cell_type": "code",
   "execution_count": 6,
   "id": "e02645c4",
   "metadata": {},
   "outputs": [
    {
     "name": "stdout",
     "output_type": "stream",
     "text": [
      "Model: \"model\"\n",
      "_________________________________________________________________\n",
      " Layer (type)                Output Shape              Param #   \n",
      "=================================================================\n",
      " input_1 (InputLayer)        [(None, 224, 224, 3)]     0         \n",
      "                                                                 \n",
      " block1_conv1 (Conv2D)       (None, 224, 224, 64)      1792      \n",
      "                                                                 \n",
      " block1_conv2 (Conv2D)       (None, 224, 224, 64)      36928     \n",
      "                                                                 \n",
      " block1_pool (MaxPooling2D)  (None, 112, 112, 64)      0         \n",
      "                                                                 \n",
      " block2_conv1 (Conv2D)       (None, 112, 112, 128)     73856     \n",
      "                                                                 \n",
      " block2_conv2 (Conv2D)       (None, 112, 112, 128)     147584    \n",
      "                                                                 \n",
      " block2_pool (MaxPooling2D)  (None, 56, 56, 128)       0         \n",
      "                                                                 \n",
      " block3_conv1 (Conv2D)       (None, 56, 56, 256)       295168    \n",
      "                                                                 \n",
      " block3_conv2 (Conv2D)       (None, 56, 56, 256)       590080    \n",
      "                                                                 \n",
      " block3_conv3 (Conv2D)       (None, 56, 56, 256)       590080    \n",
      "                                                                 \n",
      " block3_pool (MaxPooling2D)  (None, 28, 28, 256)       0         \n",
      "                                                                 \n",
      " block4_conv1 (Conv2D)       (None, 28, 28, 512)       1180160   \n",
      "                                                                 \n",
      " block4_conv2 (Conv2D)       (None, 28, 28, 512)       2359808   \n",
      "                                                                 \n",
      " block4_conv3 (Conv2D)       (None, 28, 28, 512)       2359808   \n",
      "                                                                 \n",
      " block4_pool (MaxPooling2D)  (None, 14, 14, 512)       0         \n",
      "                                                                 \n",
      " block5_conv1 (Conv2D)       (None, 14, 14, 512)       2359808   \n",
      "                                                                 \n",
      " block5_conv2 (Conv2D)       (None, 14, 14, 512)       2359808   \n",
      "                                                                 \n",
      " block5_conv3 (Conv2D)       (None, 14, 14, 512)       2359808   \n",
      "                                                                 \n",
      " block5_pool (MaxPooling2D)  (None, 7, 7, 512)         0         \n",
      "                                                                 \n",
      " global_average_pooling2d (G  (None, 512)              0         \n",
      " lobalAveragePooling2D)                                          \n",
      "                                                                 \n",
      " softmax (Dense)             (None, 10)                5130      \n",
      "                                                                 \n",
      "=================================================================\n",
      "Total params: 14,719,818\n",
      "Trainable params: 14,459,658\n",
      "Non-trainable params: 260,160\n",
      "_________________________________________________________________\n"
     ]
    }
   ],
   "source": [
    "# use “get_layer” method to save the last layer of the network\n",
    "last_layer = base_model.get_layer('global_average_pooling2d') # the name is diffrent not like -5 and -13\n",
    "\n",
    "# save the output of the last layer to be the input of the next layer\n",
    "last_output = last_layer.output\n",
    "\n",
    "# add our new softmax layer with 3 hidden units\n",
    "x = Dense(10, activation='softmax', name='softmax')(last_output)\n",
    "\n",
    "# instantiate a new_model using keras’s Model class\n",
    "new_model = Model(inputs=base_model.input, outputs=x)\n",
    "\n",
    "# print the new_model summary\n",
    "new_model.summary()"
   ]
  },
  {
   "cell_type": "code",
   "execution_count": 7,
   "id": "998df16a",
   "metadata": {},
   "outputs": [],
   "source": [
    "new_model.compile(Adam(learning_rate=0.0001), loss='categorical_crossentropy', metrics=['accuracy'])"
   ]
  },
  {
   "cell_type": "code",
   "execution_count": 8,
   "id": "8641f554",
   "metadata": {},
   "outputs": [
    {
     "name": "stderr",
     "output_type": "stream",
     "text": [
      "C:\\Users\\subeh\\AppData\\Local\\Temp\\ipykernel_15096\\1835853766.py:7: UserWarning: `Model.fit_generator` is deprecated and will be removed in a future version. Please use `Model.fit`, which supports generators.\n",
      "  history = new_model.fit_generator(train_batches, steps_per_epoch=18,\n"
     ]
    },
    {
     "name": "stdout",
     "output_type": "stream",
     "text": [
      "Epoch 1/20\n",
      "18/18 [==============================] - 99s 6s/step - loss: 3.2552 - accuracy: 0.1000 - val_loss: 2.2986 - val_accuracy: 0.1222\n",
      "Epoch 2/20\n",
      "18/18 [==============================] - 117s 7s/step - loss: 2.2893 - accuracy: 0.1000 - val_loss: 2.3104 - val_accuracy: 0.0667\n",
      "Epoch 3/20\n",
      "18/18 [==============================] - 112s 6s/step - loss: 2.3000 - accuracy: 0.0833 - val_loss: 2.3014 - val_accuracy: 0.0889\n",
      "Epoch 4/20\n",
      "18/18 [==============================] - 109s 6s/step - loss: 2.3003 - accuracy: 0.0611 - val_loss: 2.3023 - val_accuracy: 0.0444\n",
      "Epoch 5/20\n",
      "18/18 [==============================] - 114s 6s/step - loss: 2.2950 - accuracy: 0.0667 - val_loss: 2.2873 - val_accuracy: 0.0889\n",
      "Epoch 6/20\n",
      "18/18 [==============================] - 99s 6s/step - loss: 2.2897 - accuracy: 0.0988 - val_loss: 2.2824 - val_accuracy: 0.2444\n",
      "Epoch 7/20\n",
      "18/18 [==============================] - 98s 5s/step - loss: 2.2577 - accuracy: 0.1163 - val_loss: 2.3325 - val_accuracy: 0.0444\n",
      "Epoch 8/20\n",
      "18/18 [==============================] - 100s 6s/step - loss: 2.2607 - accuracy: 0.1222 - val_loss: 2.1849 - val_accuracy: 0.1556\n",
      "Epoch 9/20\n",
      "18/18 [==============================] - 98s 6s/step - loss: 2.2769 - accuracy: 0.1444 - val_loss: 2.2142 - val_accuracy: 0.1778\n",
      "Epoch 10/20\n",
      "18/18 [==============================] - 99s 6s/step - loss: 2.1353 - accuracy: 0.2278 - val_loss: 2.3422 - val_accuracy: 0.1889\n",
      "Epoch 11/20\n",
      "18/18 [==============================] - 102s 6s/step - loss: 2.1547 - accuracy: 0.2167 - val_loss: 2.0380 - val_accuracy: 0.2111\n",
      "Epoch 12/20\n",
      "18/18 [==============================] - 112s 6s/step - loss: 1.9463 - accuracy: 0.2778 - val_loss: 1.9387 - val_accuracy: 0.2667\n",
      "Epoch 13/20\n",
      "18/18 [==============================] - 110s 6s/step - loss: 2.1718 - accuracy: 0.2778 - val_loss: 2.1564 - val_accuracy: 0.2222\n",
      "Epoch 14/20\n",
      "18/18 [==============================] - 109s 6s/step - loss: 2.1386 - accuracy: 0.1722 - val_loss: 2.0522 - val_accuracy: 0.2222\n",
      "Epoch 15/20\n",
      "18/18 [==============================] - 97s 5s/step - loss: 1.9902 - accuracy: 0.2444 - val_loss: 1.8702 - val_accuracy: 0.3556\n",
      "Epoch 16/20\n",
      "18/18 [==============================] - 97s 5s/step - loss: 1.7233 - accuracy: 0.3944 - val_loss: 2.0866 - val_accuracy: 0.2222\n",
      "Epoch 17/20\n",
      "18/18 [==============================] - 100s 6s/step - loss: 1.5774 - accuracy: 0.4167 - val_loss: 1.7611 - val_accuracy: 0.3556\n",
      "Epoch 18/20\n",
      "18/18 [==============================] - 99s 6s/step - loss: 1.4649 - accuracy: 0.4556 - val_loss: 1.5727 - val_accuracy: 0.4556\n",
      "Epoch 19/20\n",
      "18/18 [==============================] - 98s 6s/step - loss: 1.5437 - accuracy: 0.4778 - val_loss: 1.2773 - val_accuracy: 0.5556\n",
      "Epoch 20/20\n",
      "18/18 [==============================] - 106s 6s/step - loss: 1.3093 - accuracy: 0.5389 - val_loss: 1.1418 - val_accuracy: 0.5556\n",
      "Training time: 2115.920 seconds\n",
      "Training time in minutes: 35.265 minutes\n"
     ]
    }
   ],
   "source": [
    "import time\n",
    "start_time = time.time()\n",
    "from keras.callbacks import ModelCheckpoint\n",
    "\n",
    "checkpointer = ModelCheckpoint(filepath='signlanguage.model.hdf5', save_best_only=True)\n",
    "\n",
    "history = new_model.fit_generator(train_batches, steps_per_epoch=18,\n",
    "                   validation_data=valid_batches, validation_steps=3, epochs=20, verbose=1, callbacks=[checkpointer])\n",
    "end_time = time.time()\n",
    "train_time_in_minutes = (end_time - start_time) / 60.0\n",
    "train_time = end_time - start_time\n",
    "print(f\"Training time: {train_time:.3f} seconds\")\n",
    "print(f\"Training time in minutes: {train_time_in_minutes:.3f} minutes\")"
   ]
  },
  {
   "cell_type": "code",
   "execution_count": 9,
   "id": "1fd0decd",
   "metadata": {},
   "outputs": [],
   "source": [
    "def load_dataset(path):\n",
    "    data = load_files(path)\n",
    "    paths = np.array(data['filenames'])\n",
    "    targets = np_utils.to_categorical(np.array(data['target']))\n",
    "    return paths, targets"
   ]
  },
  {
   "cell_type": "code",
   "execution_count": 10,
   "id": "6c13a664",
   "metadata": {},
   "outputs": [],
   "source": [
    "from sklearn.datasets import load_files\n",
    "from keras.utils import np_utils\n",
    "import numpy as np\n",
    "\n",
    "test_files, test_targets = load_dataset('C:/Users/subeh/OneDrive/Desktop/deep_learning_for_vision_systems/chapter_06/sign_language_project/dataset/test')"
   ]
  },
  {
   "cell_type": "code",
   "execution_count": 11,
   "id": "305d280f",
   "metadata": {},
   "outputs": [
    {
     "name": "stderr",
     "output_type": "stream",
     "text": [
      "100%|█████████████████████████████████████████████████████████████████████████████████| 50/50 [00:00<00:00, 694.91it/s]\n"
     ]
    }
   ],
   "source": [
    "from keras.preprocessing import image  \n",
    "from keras.applications.vgg16 import preprocess_input\n",
    "from tensorflow.keras.preprocessing import image #wrire this to solve the error 'image.load_img'\n",
    "from tqdm import tqdm\n",
    "\n",
    "def path_to_tensor(img_path):\n",
    "    # loads RGB image as PIL.Image.Image type\n",
    "    img = image.load_img(img_path, target_size=(224, 224))\n",
    "    # convert PIL.Image.Image type to 3D tensor with shape (224, 224, 3)\n",
    "    x = image.img_to_array(img)\n",
    "    # convert 3D tensor to 4D tensor with shape (1, 224, 224, 3) and return 4D tensor\n",
    "    return np.expand_dims(x, axis=0)\n",
    "\n",
    "def paths_to_tensor(img_paths):\n",
    "    list_of_tensors = [path_to_tensor(img_path) for img_path in tqdm(img_paths)]\n",
    "    return np.vstack(list_of_tensors)\n",
    "\n",
    "test_tensors = preprocess_input(paths_to_tensor(test_files))"
   ]
  },
  {
   "cell_type": "code",
   "execution_count": 12,
   "id": "3727cc4e",
   "metadata": {},
   "outputs": [],
   "source": [
    "new_model.load_weights('signlanguage.model.hdf5')"
   ]
  },
  {
   "cell_type": "code",
   "execution_count": 13,
   "id": "7bfed7d3",
   "metadata": {},
   "outputs": [
    {
     "name": "stdout",
     "output_type": "stream",
     "text": [
      "2/2 [==============================] - 9s 3s/step - loss: 1.1876 - accuracy: 0.5800\n",
      "\n",
      "Testing loss: 1.1876\n",
      "Testing accuracy: 0.5800\n"
     ]
    }
   ],
   "source": [
    "print('\\nTesting loss: {:.4f}\\nTesting accuracy: {:.4f}'.format(*new_model.evaluate(test_tensors, test_targets)))\n"
   ]
  },
  {
   "cell_type": "code",
   "execution_count": 14,
   "id": "4d9f4ec9",
   "metadata": {},
   "outputs": [
    {
     "name": "stdout",
     "output_type": "stream",
     "text": [
      "Once deleted, variables cannot be recovered. Proceed (y/[n])? y\n"
     ]
    }
   ],
   "source": [
    "%reset"
   ]
  },
  {
   "cell_type": "code",
   "execution_count": 15,
   "id": "e93c397a",
   "metadata": {},
   "outputs": [],
   "source": [
    "from keras.preprocessing.image import ImageDataGenerator\n",
    "from keras.preprocessing import image\n",
    "from keras.applications import imagenet_utils\n",
    "from keras.applications import vgg16\n",
    "from tensorflow.keras.optimizers import Adam, SGD\n",
    "from keras.metrics import categorical_crossentropy\n",
    "\n",
    "from keras.layers import Dense, Flatten, Dropout, BatchNormalization\n",
    "from keras.models import Model\n",
    "\n",
    "from sklearn.metrics import confusion_matrix\n",
    "import itertools\n",
    "import matplotlib.pyplot as plt\n",
    "%matplotlib inline"
   ]
  },
  {
   "cell_type": "code",
   "execution_count": 16,
   "id": "f813dc48",
   "metadata": {},
   "outputs": [],
   "source": [
    "train_path  = 'C:/Users/subeh/OneDrive/Desktop/deep_learning_for_vision_systems/chapter_06/sign_language_project/dataset/train'\n",
    "valid_path  = 'C:/Users/subeh/OneDrive/Desktop/deep_learning_for_vision_systems/chapter_06/sign_language_project/dataset/valid'\n",
    "test_path  = 'C:/Users/subeh/OneDrive/Desktop/deep_learning_for_vision_systems/chapter_06/sign_language_project/dataset/test'"
   ]
  },
  {
   "cell_type": "code",
   "execution_count": 17,
   "id": "182c39c6",
   "metadata": {},
   "outputs": [
    {
     "name": "stdout",
     "output_type": "stream",
     "text": [
      "Found 1712 images belonging to 10 classes.\n",
      "Found 300 images belonging to 10 classes.\n",
      "Found 50 images belonging to 10 classes.\n"
     ]
    }
   ],
   "source": [
    "train_batches = ImageDataGenerator().flow_from_directory(train_path, \n",
    "                                                         target_size=(224,224), \n",
    "                                                         batch_size=10)\n",
    "\n",
    "valid_batches = ImageDataGenerator().flow_from_directory(valid_path,\n",
    "                                                         target_size=(224,224), \n",
    "                                                         batch_size=30)\n",
    "\n",
    "test_batches = ImageDataGenerator().flow_from_directory(test_path, \n",
    "                                                        target_size=(224,224), \n",
    "                                                        batch_size=50, \n",
    "                                                        shuffle=False)"
   ]
  },
  {
   "cell_type": "code",
   "execution_count": 18,
   "id": "02c5ec94",
   "metadata": {},
   "outputs": [
    {
     "name": "stdout",
     "output_type": "stream",
     "text": [
      "Model: \"vgg16\"\n",
      "_________________________________________________________________\n",
      " Layer (type)                Output Shape              Param #   \n",
      "=================================================================\n",
      " input_2 (InputLayer)        [(None, 224, 224, 3)]     0         \n",
      "                                                                 \n",
      " block1_conv1 (Conv2D)       (None, 224, 224, 64)      1792      \n",
      "                                                                 \n",
      " block1_conv2 (Conv2D)       (None, 224, 224, 64)      36928     \n",
      "                                                                 \n",
      " block1_pool (MaxPooling2D)  (None, 112, 112, 64)      0         \n",
      "                                                                 \n",
      " block2_conv1 (Conv2D)       (None, 112, 112, 128)     73856     \n",
      "                                                                 \n",
      " block2_conv2 (Conv2D)       (None, 112, 112, 128)     147584    \n",
      "                                                                 \n",
      " block2_pool (MaxPooling2D)  (None, 56, 56, 128)       0         \n",
      "                                                                 \n",
      " block3_conv1 (Conv2D)       (None, 56, 56, 256)       295168    \n",
      "                                                                 \n",
      " block3_conv2 (Conv2D)       (None, 56, 56, 256)       590080    \n",
      "                                                                 \n",
      " block3_conv3 (Conv2D)       (None, 56, 56, 256)       590080    \n",
      "                                                                 \n",
      " block3_pool (MaxPooling2D)  (None, 28, 28, 256)       0         \n",
      "                                                                 \n",
      " block4_conv1 (Conv2D)       (None, 28, 28, 512)       1180160   \n",
      "                                                                 \n",
      " block4_conv2 (Conv2D)       (None, 28, 28, 512)       2359808   \n",
      "                                                                 \n",
      " block4_conv3 (Conv2D)       (None, 28, 28, 512)       2359808   \n",
      "                                                                 \n",
      " block4_pool (MaxPooling2D)  (None, 14, 14, 512)       0         \n",
      "                                                                 \n",
      " block5_conv1 (Conv2D)       (None, 14, 14, 512)       2359808   \n",
      "                                                                 \n",
      " block5_conv2 (Conv2D)       (None, 14, 14, 512)       2359808   \n",
      "                                                                 \n",
      " block5_conv3 (Conv2D)       (None, 14, 14, 512)       2359808   \n",
      "                                                                 \n",
      " block5_pool (MaxPooling2D)  (None, 7, 7, 512)         0         \n",
      "                                                                 \n",
      " global_average_pooling2d_1   (None, 512)              0         \n",
      " (GlobalAveragePooling2D)                                        \n",
      "                                                                 \n",
      "=================================================================\n",
      "Total params: 14,714,688\n",
      "Trainable params: 14,714,688\n",
      "Non-trainable params: 0\n",
      "_________________________________________________________________\n"
     ]
    }
   ],
   "source": [
    "base_model = vgg16.VGG16(weights = \"imagenet\", include_top=False, input_shape = (224,224, 3), pooling='avg')\n",
    "base_model.summary()"
   ]
  },
  {
   "cell_type": "code",
   "execution_count": 19,
   "id": "f6e2e81a",
   "metadata": {},
   "outputs": [
    {
     "name": "stdout",
     "output_type": "stream",
     "text": [
      "Model: \"vgg16\"\n",
      "_________________________________________________________________\n",
      " Layer (type)                Output Shape              Param #   \n",
      "=================================================================\n",
      " input_2 (InputLayer)        [(None, 224, 224, 3)]     0         \n",
      "                                                                 \n",
      " block1_conv1 (Conv2D)       (None, 224, 224, 64)      1792      \n",
      "                                                                 \n",
      " block1_conv2 (Conv2D)       (None, 224, 224, 64)      36928     \n",
      "                                                                 \n",
      " block1_pool (MaxPooling2D)  (None, 112, 112, 64)      0         \n",
      "                                                                 \n",
      " block2_conv1 (Conv2D)       (None, 112, 112, 128)     73856     \n",
      "                                                                 \n",
      " block2_conv2 (Conv2D)       (None, 112, 112, 128)     147584    \n",
      "                                                                 \n",
      " block2_pool (MaxPooling2D)  (None, 56, 56, 128)       0         \n",
      "                                                                 \n",
      " block3_conv1 (Conv2D)       (None, 56, 56, 256)       295168    \n",
      "                                                                 \n",
      " block3_conv2 (Conv2D)       (None, 56, 56, 256)       590080    \n",
      "                                                                 \n",
      " block3_conv3 (Conv2D)       (None, 56, 56, 256)       590080    \n",
      "                                                                 \n",
      " block3_pool (MaxPooling2D)  (None, 28, 28, 256)       0         \n",
      "                                                                 \n",
      " block4_conv1 (Conv2D)       (None, 28, 28, 512)       1180160   \n",
      "                                                                 \n",
      " block4_conv2 (Conv2D)       (None, 28, 28, 512)       2359808   \n",
      "                                                                 \n",
      " block4_conv3 (Conv2D)       (None, 28, 28, 512)       2359808   \n",
      "                                                                 \n",
      " block4_pool (MaxPooling2D)  (None, 14, 14, 512)       0         \n",
      "                                                                 \n",
      " block5_conv1 (Conv2D)       (None, 14, 14, 512)       2359808   \n",
      "                                                                 \n",
      " block5_conv2 (Conv2D)       (None, 14, 14, 512)       2359808   \n",
      "                                                                 \n",
      " block5_conv3 (Conv2D)       (None, 14, 14, 512)       2359808   \n",
      "                                                                 \n",
      " block5_pool (MaxPooling2D)  (None, 7, 7, 512)         0         \n",
      "                                                                 \n",
      " global_average_pooling2d_1   (None, 512)              0         \n",
      " (GlobalAveragePooling2D)                                        \n",
      "                                                                 \n",
      "=================================================================\n",
      "Total params: 14,714,688\n",
      "Trainable params: 14,159,360\n",
      "Non-trainable params: 555,328\n",
      "_________________________________________________________________\n"
     ]
    }
   ],
   "source": [
    "for layer in base_model.layers[:-12]:\n",
    "    layer.trainable = False\n",
    "\n",
    "base_model.summary()"
   ]
  },
  {
   "cell_type": "code",
   "execution_count": 21,
   "id": "b40dfac6",
   "metadata": {},
   "outputs": [
    {
     "name": "stdout",
     "output_type": "stream",
     "text": [
      "Model: \"model_1\"\n",
      "_________________________________________________________________\n",
      " Layer (type)                Output Shape              Param #   \n",
      "=================================================================\n",
      " input_2 (InputLayer)        [(None, 224, 224, 3)]     0         \n",
      "                                                                 \n",
      " block1_conv1 (Conv2D)       (None, 224, 224, 64)      1792      \n",
      "                                                                 \n",
      " block1_conv2 (Conv2D)       (None, 224, 224, 64)      36928     \n",
      "                                                                 \n",
      " block1_pool (MaxPooling2D)  (None, 112, 112, 64)      0         \n",
      "                                                                 \n",
      " block2_conv1 (Conv2D)       (None, 112, 112, 128)     73856     \n",
      "                                                                 \n",
      " block2_conv2 (Conv2D)       (None, 112, 112, 128)     147584    \n",
      "                                                                 \n",
      " block2_pool (MaxPooling2D)  (None, 56, 56, 128)       0         \n",
      "                                                                 \n",
      " block3_conv1 (Conv2D)       (None, 56, 56, 256)       295168    \n",
      "                                                                 \n",
      " block3_conv2 (Conv2D)       (None, 56, 56, 256)       590080    \n",
      "                                                                 \n",
      " block3_conv3 (Conv2D)       (None, 56, 56, 256)       590080    \n",
      "                                                                 \n",
      " block3_pool (MaxPooling2D)  (None, 28, 28, 256)       0         \n",
      "                                                                 \n",
      " block4_conv1 (Conv2D)       (None, 28, 28, 512)       1180160   \n",
      "                                                                 \n",
      " block4_conv2 (Conv2D)       (None, 28, 28, 512)       2359808   \n",
      "                                                                 \n",
      " block4_conv3 (Conv2D)       (None, 28, 28, 512)       2359808   \n",
      "                                                                 \n",
      " block4_pool (MaxPooling2D)  (None, 14, 14, 512)       0         \n",
      "                                                                 \n",
      " block5_conv1 (Conv2D)       (None, 14, 14, 512)       2359808   \n",
      "                                                                 \n",
      " block5_conv2 (Conv2D)       (None, 14, 14, 512)       2359808   \n",
      "                                                                 \n",
      " block5_conv3 (Conv2D)       (None, 14, 14, 512)       2359808   \n",
      "                                                                 \n",
      " block5_pool (MaxPooling2D)  (None, 7, 7, 512)         0         \n",
      "                                                                 \n",
      " global_average_pooling2d_1   (None, 512)              0         \n",
      " (GlobalAveragePooling2D)                                        \n",
      "                                                                 \n",
      " softmax (Dense)             (None, 10)                5130      \n",
      "                                                                 \n",
      "=================================================================\n",
      "Total params: 14,719,818\n",
      "Trainable params: 14,164,490\n",
      "Non-trainable params: 555,328\n",
      "_________________________________________________________________\n"
     ]
    }
   ],
   "source": [
    "last_layer = base_model.get_layer('global_average_pooling2d_1')\n",
    "\n",
    "# save the output of the last layer to be the input of the next layer\n",
    "last_output = last_layer.output\n",
    "\n",
    "# add our new softmax layer with 3 hidden units\n",
    "x = Dense(10, activation='softmax', name='softmax')(last_output)\n",
    "\n",
    "# instantiate a new_model using keras’s Model class\n",
    "new_model = Model(inputs=base_model.input, outputs=x)\n",
    "\n",
    "# print the new_model summary\n",
    "new_model.summary()"
   ]
  },
  {
   "cell_type": "code",
   "execution_count": 22,
   "id": "b4b0d2a5",
   "metadata": {},
   "outputs": [],
   "source": [
    "new_model.compile(Adam(learning_rate=0.0001), loss='categorical_crossentropy', metrics=['accuracy'])"
   ]
  },
  {
   "cell_type": "code",
   "execution_count": 23,
   "id": "b087984b",
   "metadata": {},
   "outputs": [
    {
     "name": "stdout",
     "output_type": "stream",
     "text": [
      "Epoch 1/20\n"
     ]
    },
    {
     "name": "stderr",
     "output_type": "stream",
     "text": [
      "C:\\Users\\subeh\\AppData\\Local\\Temp\\ipykernel_15096\\1835853766.py:7: UserWarning: `Model.fit_generator` is deprecated and will be removed in a future version. Please use `Model.fit`, which supports generators.\n",
      "  history = new_model.fit_generator(train_batches, steps_per_epoch=18,\n"
     ]
    },
    {
     "name": "stdout",
     "output_type": "stream",
     "text": [
      "18/18 [==============================] - 92s 5s/step - loss: 3.6992 - accuracy: 0.1000 - val_loss: 2.3174 - val_accuracy: 0.1444\n",
      "Epoch 2/20\n",
      "18/18 [==============================] - 95s 5s/step - loss: 2.2236 - accuracy: 0.1556 - val_loss: 2.1988 - val_accuracy: 0.1556\n",
      "Epoch 3/20\n",
      "18/18 [==============================] - 91s 5s/step - loss: 2.2181 - accuracy: 0.1722 - val_loss: 2.1082 - val_accuracy: 0.1556\n",
      "Epoch 4/20\n",
      "18/18 [==============================] - 96s 5s/step - loss: 1.9780 - accuracy: 0.1778 - val_loss: 1.8857 - val_accuracy: 0.2444\n",
      "Epoch 5/20\n",
      "18/18 [==============================] - 98s 5s/step - loss: 1.9341 - accuracy: 0.2278 - val_loss: 1.8988 - val_accuracy: 0.2667\n",
      "Epoch 6/20\n",
      "18/18 [==============================] - 91s 5s/step - loss: 1.9865 - accuracy: 0.2389 - val_loss: 1.8087 - val_accuracy: 0.3222\n",
      "Epoch 7/20\n",
      "18/18 [==============================] - 92s 5s/step - loss: 1.8454 - accuracy: 0.2667 - val_loss: 1.7013 - val_accuracy: 0.3333\n",
      "Epoch 8/20\n",
      "18/18 [==============================] - 92s 5s/step - loss: 1.7300 - accuracy: 0.3667 - val_loss: 1.8445 - val_accuracy: 0.2889\n",
      "Epoch 9/20\n",
      "18/18 [==============================] - 94s 5s/step - loss: 1.5261 - accuracy: 0.5222 - val_loss: 1.6293 - val_accuracy: 0.4333\n",
      "Epoch 10/20\n",
      "18/18 [==============================] - 91s 5s/step - loss: 1.6141 - accuracy: 0.4000 - val_loss: 1.5403 - val_accuracy: 0.4000\n",
      "Epoch 11/20\n",
      "18/18 [==============================] - 92s 5s/step - loss: 1.4795 - accuracy: 0.4944 - val_loss: 1.3037 - val_accuracy: 0.5778\n",
      "Epoch 12/20\n",
      "18/18 [==============================] - 87s 5s/step - loss: 1.1585 - accuracy: 0.6167 - val_loss: 1.4429 - val_accuracy: 0.4444\n",
      "Epoch 13/20\n",
      "18/18 [==============================] - 90s 5s/step - loss: 1.2813 - accuracy: 0.6111 - val_loss: 1.3231 - val_accuracy: 0.5667\n",
      "Epoch 14/20\n",
      "18/18 [==============================] - 90s 5s/step - loss: 1.0976 - accuracy: 0.6389 - val_loss: 1.0654 - val_accuracy: 0.6444\n",
      "Epoch 15/20\n",
      "18/18 [==============================] - 93s 5s/step - loss: 0.9034 - accuracy: 0.6889 - val_loss: 0.7450 - val_accuracy: 0.7333\n",
      "Epoch 16/20\n",
      "18/18 [==============================] - 87s 5s/step - loss: 0.6870 - accuracy: 0.7442 - val_loss: 0.6580 - val_accuracy: 0.7444\n",
      "Epoch 17/20\n",
      "18/18 [==============================] - 88s 5s/step - loss: 0.4072 - accuracy: 0.8547 - val_loss: 0.5653 - val_accuracy: 0.7778\n",
      "Epoch 18/20\n",
      "18/18 [==============================] - 98s 5s/step - loss: 0.5950 - accuracy: 0.7667 - val_loss: 0.6332 - val_accuracy: 0.8444\n",
      "Epoch 19/20\n",
      "18/18 [==============================] - 95s 5s/step - loss: 0.3495 - accuracy: 0.9000 - val_loss: 0.2047 - val_accuracy: 0.9222\n",
      "Epoch 20/20\n",
      "18/18 [==============================] - 93s 5s/step - loss: 0.4614 - accuracy: 0.8500 - val_loss: 0.4640 - val_accuracy: 0.8889\n",
      "Training time: 1894.104 seconds\n",
      "Training time in minutes: 31.568 minutes\n"
     ]
    }
   ],
   "source": [
    "import time\n",
    "start_time = time.time()\n",
    "from keras.callbacks import ModelCheckpoint\n",
    "\n",
    "checkpointer = ModelCheckpoint(filepath='signlanguage.model.hdf5', save_best_only=True)\n",
    "\n",
    "history = new_model.fit_generator(train_batches, steps_per_epoch=18,\n",
    "                   validation_data=valid_batches, validation_steps=3, epochs=20, verbose=1, callbacks=[checkpointer])\n",
    "end_time = time.time()\n",
    "train_time_in_minutes = (end_time - start_time) / 60.0\n",
    "train_time = end_time - start_time\n",
    "print(f\"Training time: {train_time:.3f} seconds\")\n",
    "print(f\"Training time in minutes: {train_time_in_minutes:.3f} minutes\")"
   ]
  },
  {
   "cell_type": "code",
   "execution_count": 24,
   "id": "b9c57fc4",
   "metadata": {},
   "outputs": [],
   "source": [
    "def load_dataset(path):\n",
    "    data = load_files(path)\n",
    "    paths = np.array(data['filenames'])\n",
    "    targets = np_utils.to_categorical(np.array(data['target']))\n",
    "    return paths, targets"
   ]
  },
  {
   "cell_type": "code",
   "execution_count": 25,
   "id": "7d37c1e8",
   "metadata": {},
   "outputs": [],
   "source": [
    "from sklearn.datasets import load_files\n",
    "from keras.utils import np_utils\n",
    "import numpy as np\n",
    "\n",
    "test_files, test_targets = load_dataset('C:/Users/subeh/OneDrive/Desktop/deep_learning_for_vision_systems/chapter_06/sign_language_project/dataset/test')"
   ]
  },
  {
   "cell_type": "code",
   "execution_count": 26,
   "id": "76201992",
   "metadata": {},
   "outputs": [
    {
     "name": "stderr",
     "output_type": "stream",
     "text": [
      "100%|█████████████████████████████████████████████████████████████████████████████████| 50/50 [00:00<00:00, 610.14it/s]\n"
     ]
    }
   ],
   "source": [
    "from keras.preprocessing import image  \n",
    "from keras.applications.vgg16 import preprocess_input\n",
    "from tensorflow.keras.preprocessing import image #wrire this to solve the error 'image.load_img'\n",
    "from tqdm import tqdm\n",
    "\n",
    "def path_to_tensor(img_path):\n",
    "    # loads RGB image as PIL.Image.Image type\n",
    "    img = image.load_img(img_path, target_size=(224, 224))\n",
    "    # convert PIL.Image.Image type to 3D tensor with shape (224, 224, 3)\n",
    "    x = image.img_to_array(img)\n",
    "    # convert 3D tensor to 4D tensor with shape (1, 224, 224, 3) and return 4D tensor\n",
    "    return np.expand_dims(x, axis=0)\n",
    "\n",
    "def paths_to_tensor(img_paths):\n",
    "    list_of_tensors = [path_to_tensor(img_path) for img_path in tqdm(img_paths)]\n",
    "    return np.vstack(list_of_tensors)\n",
    "\n",
    "test_tensors = preprocess_input(paths_to_tensor(test_files))"
   ]
  },
  {
   "cell_type": "code",
   "execution_count": 27,
   "id": "ca2692f5",
   "metadata": {},
   "outputs": [],
   "source": [
    "new_model.load_weights('signlanguage.model.hdf5')"
   ]
  },
  {
   "cell_type": "code",
   "execution_count": 28,
   "id": "4893cfdf",
   "metadata": {},
   "outputs": [
    {
     "name": "stdout",
     "output_type": "stream",
     "text": [
      "2/2 [==============================] - 8s 3s/step - loss: 0.8580 - accuracy: 0.6800\n",
      "\n",
      "Testing loss: 0.8580\n",
      "Testing accuracy: 0.6800\n"
     ]
    }
   ],
   "source": [
    "print('\\nTesting loss: {:.4f}\\nTesting accuracy: {:.4f}'.format(*new_model.evaluate(test_tensors, test_targets)))\n"
   ]
  },
  {
   "cell_type": "code",
   "execution_count": 29,
   "id": "135a1c8e",
   "metadata": {},
   "outputs": [
    {
     "name": "stdout",
     "output_type": "stream",
     "text": [
      "Once deleted, variables cannot be recovered. Proceed (y/[n])? y\n"
     ]
    }
   ],
   "source": [
    "%reset"
   ]
  },
  {
   "cell_type": "code",
   "execution_count": null,
   "id": "4baf7b7b",
   "metadata": {},
   "outputs": [],
   "source": [
    "#-11"
   ]
  },
  {
   "cell_type": "code",
   "execution_count": 30,
   "id": "148a8d31",
   "metadata": {},
   "outputs": [],
   "source": [
    "from keras.preprocessing.image import ImageDataGenerator\n",
    "from keras.preprocessing import image\n",
    "from keras.applications import imagenet_utils\n",
    "from keras.applications import vgg16\n",
    "from tensorflow.keras.optimizers import Adam, SGD\n",
    "from keras.metrics import categorical_crossentropy\n",
    "\n",
    "from keras.layers import Dense, Flatten, Dropout, BatchNormalization\n",
    "from keras.models import Model\n",
    "\n",
    "from sklearn.metrics import confusion_matrix\n",
    "import itertools\n",
    "import matplotlib.pyplot as plt\n",
    "%matplotlib inline"
   ]
  },
  {
   "cell_type": "code",
   "execution_count": 31,
   "id": "25e0b40c",
   "metadata": {},
   "outputs": [],
   "source": [
    "train_path  = 'C:/Users/subeh/OneDrive/Desktop/deep_learning_for_vision_systems/chapter_06/sign_language_project/dataset/train'\n",
    "valid_path  = 'C:/Users/subeh/OneDrive/Desktop/deep_learning_for_vision_systems/chapter_06/sign_language_project/dataset/valid'\n",
    "test_path  = 'C:/Users/subeh/OneDrive/Desktop/deep_learning_for_vision_systems/chapter_06/sign_language_project/dataset/test'"
   ]
  },
  {
   "cell_type": "code",
   "execution_count": 32,
   "id": "e254c457",
   "metadata": {},
   "outputs": [
    {
     "name": "stdout",
     "output_type": "stream",
     "text": [
      "Found 1712 images belonging to 10 classes.\n",
      "Found 300 images belonging to 10 classes.\n",
      "Found 50 images belonging to 10 classes.\n"
     ]
    }
   ],
   "source": [
    "train_batches = ImageDataGenerator().flow_from_directory(train_path, \n",
    "                                                         target_size=(224,224), \n",
    "                                                         batch_size=10)\n",
    "\n",
    "valid_batches = ImageDataGenerator().flow_from_directory(valid_path,\n",
    "                                                         target_size=(224,224), \n",
    "                                                         batch_size=30)\n",
    "\n",
    "test_batches = ImageDataGenerator().flow_from_directory(test_path, \n",
    "                                                        target_size=(224,224), \n",
    "                                                        batch_size=50, \n",
    "                                                        shuffle=False)"
   ]
  },
  {
   "cell_type": "code",
   "execution_count": 33,
   "id": "82cd560d",
   "metadata": {},
   "outputs": [
    {
     "name": "stdout",
     "output_type": "stream",
     "text": [
      "Model: \"vgg16\"\n",
      "_________________________________________________________________\n",
      " Layer (type)                Output Shape              Param #   \n",
      "=================================================================\n",
      " input_3 (InputLayer)        [(None, 224, 224, 3)]     0         \n",
      "                                                                 \n",
      " block1_conv1 (Conv2D)       (None, 224, 224, 64)      1792      \n",
      "                                                                 \n",
      " block1_conv2 (Conv2D)       (None, 224, 224, 64)      36928     \n",
      "                                                                 \n",
      " block1_pool (MaxPooling2D)  (None, 112, 112, 64)      0         \n",
      "                                                                 \n",
      " block2_conv1 (Conv2D)       (None, 112, 112, 128)     73856     \n",
      "                                                                 \n",
      " block2_conv2 (Conv2D)       (None, 112, 112, 128)     147584    \n",
      "                                                                 \n",
      " block2_pool (MaxPooling2D)  (None, 56, 56, 128)       0         \n",
      "                                                                 \n",
      " block3_conv1 (Conv2D)       (None, 56, 56, 256)       295168    \n",
      "                                                                 \n",
      " block3_conv2 (Conv2D)       (None, 56, 56, 256)       590080    \n",
      "                                                                 \n",
      " block3_conv3 (Conv2D)       (None, 56, 56, 256)       590080    \n",
      "                                                                 \n",
      " block3_pool (MaxPooling2D)  (None, 28, 28, 256)       0         \n",
      "                                                                 \n",
      " block4_conv1 (Conv2D)       (None, 28, 28, 512)       1180160   \n",
      "                                                                 \n",
      " block4_conv2 (Conv2D)       (None, 28, 28, 512)       2359808   \n",
      "                                                                 \n",
      " block4_conv3 (Conv2D)       (None, 28, 28, 512)       2359808   \n",
      "                                                                 \n",
      " block4_pool (MaxPooling2D)  (None, 14, 14, 512)       0         \n",
      "                                                                 \n",
      " block5_conv1 (Conv2D)       (None, 14, 14, 512)       2359808   \n",
      "                                                                 \n",
      " block5_conv2 (Conv2D)       (None, 14, 14, 512)       2359808   \n",
      "                                                                 \n",
      " block5_conv3 (Conv2D)       (None, 14, 14, 512)       2359808   \n",
      "                                                                 \n",
      " block5_pool (MaxPooling2D)  (None, 7, 7, 512)         0         \n",
      "                                                                 \n",
      " global_average_pooling2d_2   (None, 512)              0         \n",
      " (GlobalAveragePooling2D)                                        \n",
      "                                                                 \n",
      "=================================================================\n",
      "Total params: 14,714,688\n",
      "Trainable params: 14,714,688\n",
      "Non-trainable params: 0\n",
      "_________________________________________________________________\n"
     ]
    }
   ],
   "source": [
    "base_model = vgg16.VGG16(weights = \"imagenet\", include_top=False, input_shape = (224,224, 3), pooling='avg')\n",
    "base_model.summary()"
   ]
  },
  {
   "cell_type": "code",
   "execution_count": 34,
   "id": "07866554",
   "metadata": {},
   "outputs": [
    {
     "name": "stdout",
     "output_type": "stream",
     "text": [
      "Model: \"vgg16\"\n",
      "_________________________________________________________________\n",
      " Layer (type)                Output Shape              Param #   \n",
      "=================================================================\n",
      " input_3 (InputLayer)        [(None, 224, 224, 3)]     0         \n",
      "                                                                 \n",
      " block1_conv1 (Conv2D)       (None, 224, 224, 64)      1792      \n",
      "                                                                 \n",
      " block1_conv2 (Conv2D)       (None, 224, 224, 64)      36928     \n",
      "                                                                 \n",
      " block1_pool (MaxPooling2D)  (None, 112, 112, 64)      0         \n",
      "                                                                 \n",
      " block2_conv1 (Conv2D)       (None, 112, 112, 128)     73856     \n",
      "                                                                 \n",
      " block2_conv2 (Conv2D)       (None, 112, 112, 128)     147584    \n",
      "                                                                 \n",
      " block2_pool (MaxPooling2D)  (None, 56, 56, 128)       0         \n",
      "                                                                 \n",
      " block3_conv1 (Conv2D)       (None, 56, 56, 256)       295168    \n",
      "                                                                 \n",
      " block3_conv2 (Conv2D)       (None, 56, 56, 256)       590080    \n",
      "                                                                 \n",
      " block3_conv3 (Conv2D)       (None, 56, 56, 256)       590080    \n",
      "                                                                 \n",
      " block3_pool (MaxPooling2D)  (None, 28, 28, 256)       0         \n",
      "                                                                 \n",
      " block4_conv1 (Conv2D)       (None, 28, 28, 512)       1180160   \n",
      "                                                                 \n",
      " block4_conv2 (Conv2D)       (None, 28, 28, 512)       2359808   \n",
      "                                                                 \n",
      " block4_conv3 (Conv2D)       (None, 28, 28, 512)       2359808   \n",
      "                                                                 \n",
      " block4_pool (MaxPooling2D)  (None, 14, 14, 512)       0         \n",
      "                                                                 \n",
      " block5_conv1 (Conv2D)       (None, 14, 14, 512)       2359808   \n",
      "                                                                 \n",
      " block5_conv2 (Conv2D)       (None, 14, 14, 512)       2359808   \n",
      "                                                                 \n",
      " block5_conv3 (Conv2D)       (None, 14, 14, 512)       2359808   \n",
      "                                                                 \n",
      " block5_pool (MaxPooling2D)  (None, 7, 7, 512)         0         \n",
      "                                                                 \n",
      " global_average_pooling2d_2   (None, 512)              0         \n",
      " (GlobalAveragePooling2D)                                        \n",
      "                                                                 \n",
      "=================================================================\n",
      "Total params: 14,714,688\n",
      "Trainable params: 13,569,280\n",
      "Non-trainable params: 1,145,408\n",
      "_________________________________________________________________\n"
     ]
    }
   ],
   "source": [
    "# iterate through its layers and lock them to make them not trainable with this code\n",
    "for layer in base_model.layers[:-11]:\n",
    "    layer.trainable = False\n",
    "\n",
    "base_model.summary()"
   ]
  },
  {
   "cell_type": "code",
   "execution_count": 36,
   "id": "0f1c8f7f",
   "metadata": {},
   "outputs": [
    {
     "name": "stdout",
     "output_type": "stream",
     "text": [
      "Model: \"model_2\"\n",
      "_________________________________________________________________\n",
      " Layer (type)                Output Shape              Param #   \n",
      "=================================================================\n",
      " input_3 (InputLayer)        [(None, 224, 224, 3)]     0         \n",
      "                                                                 \n",
      " block1_conv1 (Conv2D)       (None, 224, 224, 64)      1792      \n",
      "                                                                 \n",
      " block1_conv2 (Conv2D)       (None, 224, 224, 64)      36928     \n",
      "                                                                 \n",
      " block1_pool (MaxPooling2D)  (None, 112, 112, 64)      0         \n",
      "                                                                 \n",
      " block2_conv1 (Conv2D)       (None, 112, 112, 128)     73856     \n",
      "                                                                 \n",
      " block2_conv2 (Conv2D)       (None, 112, 112, 128)     147584    \n",
      "                                                                 \n",
      " block2_pool (MaxPooling2D)  (None, 56, 56, 128)       0         \n",
      "                                                                 \n",
      " block3_conv1 (Conv2D)       (None, 56, 56, 256)       295168    \n",
      "                                                                 \n",
      " block3_conv2 (Conv2D)       (None, 56, 56, 256)       590080    \n",
      "                                                                 \n",
      " block3_conv3 (Conv2D)       (None, 56, 56, 256)       590080    \n",
      "                                                                 \n",
      " block3_pool (MaxPooling2D)  (None, 28, 28, 256)       0         \n",
      "                                                                 \n",
      " block4_conv1 (Conv2D)       (None, 28, 28, 512)       1180160   \n",
      "                                                                 \n",
      " block4_conv2 (Conv2D)       (None, 28, 28, 512)       2359808   \n",
      "                                                                 \n",
      " block4_conv3 (Conv2D)       (None, 28, 28, 512)       2359808   \n",
      "                                                                 \n",
      " block4_pool (MaxPooling2D)  (None, 14, 14, 512)       0         \n",
      "                                                                 \n",
      " block5_conv1 (Conv2D)       (None, 14, 14, 512)       2359808   \n",
      "                                                                 \n",
      " block5_conv2 (Conv2D)       (None, 14, 14, 512)       2359808   \n",
      "                                                                 \n",
      " block5_conv3 (Conv2D)       (None, 14, 14, 512)       2359808   \n",
      "                                                                 \n",
      " block5_pool (MaxPooling2D)  (None, 7, 7, 512)         0         \n",
      "                                                                 \n",
      " global_average_pooling2d_2   (None, 512)              0         \n",
      " (GlobalAveragePooling2D)                                        \n",
      "                                                                 \n",
      " softmax (Dense)             (None, 10)                5130      \n",
      "                                                                 \n",
      "=================================================================\n",
      "Total params: 14,719,818\n",
      "Trainable params: 13,574,410\n",
      "Non-trainable params: 1,145,408\n",
      "_________________________________________________________________\n"
     ]
    }
   ],
   "source": [
    "# use “get_layer” method to save the last layer of the network\n",
    "last_layer = base_model.get_layer('global_average_pooling2d_2')\n",
    "\n",
    "# save the output of the last layer to be the input of the next layer\n",
    "last_output = last_layer.output\n",
    "\n",
    "# add our new softmax layer with 3 hidden units\n",
    "x = Dense(10, activation='softmax', name='softmax')(last_output)\n",
    "\n",
    "# instantiate a new_model using keras’s Model class\n",
    "new_model = Model(inputs=base_model.input, outputs=x)\n",
    "\n",
    "# print the new_model summary\n",
    "new_model.summary()"
   ]
  },
  {
   "cell_type": "code",
   "execution_count": 37,
   "id": "db037f93",
   "metadata": {},
   "outputs": [],
   "source": [
    "new_model.compile(Adam(learning_rate=0.0001), loss='categorical_crossentropy', metrics=['accuracy'])"
   ]
  },
  {
   "cell_type": "code",
   "execution_count": 38,
   "id": "8274aca3",
   "metadata": {},
   "outputs": [
    {
     "name": "stdout",
     "output_type": "stream",
     "text": [
      "Epoch 1/20\n"
     ]
    },
    {
     "name": "stderr",
     "output_type": "stream",
     "text": [
      "C:\\Users\\subeh\\AppData\\Local\\Temp\\ipykernel_15096\\1835853766.py:7: UserWarning: `Model.fit_generator` is deprecated and will be removed in a future version. Please use `Model.fit`, which supports generators.\n",
      "  history = new_model.fit_generator(train_batches, steps_per_epoch=18,\n"
     ]
    },
    {
     "name": "stdout",
     "output_type": "stream",
     "text": [
      "18/18 [==============================] - 89s 5s/step - loss: 2.7410 - accuracy: 0.2833 - val_loss: 1.6901 - val_accuracy: 0.3667\n",
      "Epoch 2/20\n",
      "18/18 [==============================] - 82s 5s/step - loss: 1.4774 - accuracy: 0.4767 - val_loss: 0.9749 - val_accuracy: 0.6444\n",
      "Epoch 3/20\n",
      "18/18 [==============================] - 87s 5s/step - loss: 1.2264 - accuracy: 0.5778 - val_loss: 0.9064 - val_accuracy: 0.6667\n",
      "Epoch 4/20\n",
      "18/18 [==============================] - 91s 5s/step - loss: 0.6977 - accuracy: 0.7667 - val_loss: 0.7112 - val_accuracy: 0.7667\n",
      "Epoch 5/20\n",
      "18/18 [==============================] - 88s 5s/step - loss: 0.7474 - accuracy: 0.8000 - val_loss: 0.7499 - val_accuracy: 0.7889\n",
      "Epoch 6/20\n",
      "18/18 [==============================] - 86s 5s/step - loss: 0.4769 - accuracy: 0.8333 - val_loss: 0.2842 - val_accuracy: 0.9222\n",
      "Epoch 7/20\n",
      "18/18 [==============================] - 84s 5s/step - loss: 0.2662 - accuracy: 0.9167 - val_loss: 0.4618 - val_accuracy: 0.8778\n",
      "Epoch 8/20\n",
      "18/18 [==============================] - 82s 5s/step - loss: 0.2616 - accuracy: 0.9012 - val_loss: 0.3542 - val_accuracy: 0.8889\n",
      "Epoch 9/20\n",
      "18/18 [==============================] - 81s 5s/step - loss: 0.1995 - accuracy: 0.9360 - val_loss: 0.2635 - val_accuracy: 0.9556\n",
      "Epoch 10/20\n",
      "18/18 [==============================] - 92s 5s/step - loss: 0.2654 - accuracy: 0.9222 - val_loss: 0.2714 - val_accuracy: 0.9111\n",
      "Epoch 11/20\n",
      "18/18 [==============================] - 99s 6s/step - loss: 0.0711 - accuracy: 0.9889 - val_loss: 0.1702 - val_accuracy: 0.9556\n",
      "Epoch 12/20\n",
      "18/18 [==============================] - 90s 5s/step - loss: 0.0318 - accuracy: 0.9889 - val_loss: 0.0257 - val_accuracy: 1.0000\n",
      "Epoch 13/20\n",
      "18/18 [==============================] - 85s 5s/step - loss: 0.4279 - accuracy: 0.8833 - val_loss: 0.1090 - val_accuracy: 0.9778\n",
      "Epoch 14/20\n",
      "18/18 [==============================] - 84s 5s/step - loss: 0.1534 - accuracy: 0.9444 - val_loss: 0.1054 - val_accuracy: 0.9556\n",
      "Epoch 15/20\n",
      "18/18 [==============================] - 85s 5s/step - loss: 0.0561 - accuracy: 0.9889 - val_loss: 0.0641 - val_accuracy: 0.9889\n",
      "Epoch 16/20\n",
      "18/18 [==============================] - 84s 5s/step - loss: 0.0888 - accuracy: 0.9667 - val_loss: 0.4656 - val_accuracy: 0.7889\n",
      "Epoch 17/20\n",
      "18/18 [==============================] - 83s 5s/step - loss: 0.1067 - accuracy: 0.9722 - val_loss: 0.0759 - val_accuracy: 0.9556\n",
      "Epoch 18/20\n",
      "18/18 [==============================] - 84s 5s/step - loss: 0.0672 - accuracy: 0.9778 - val_loss: 0.2538 - val_accuracy: 0.9778\n",
      "Epoch 19/20\n",
      "18/18 [==============================] - 85s 5s/step - loss: 0.1214 - accuracy: 0.9778 - val_loss: 0.2574 - val_accuracy: 0.9778\n",
      "Epoch 20/20\n",
      "18/18 [==============================] - 83s 5s/step - loss: 0.0761 - accuracy: 0.9778 - val_loss: 0.5182 - val_accuracy: 0.9000\n",
      "Training time: 1725.113 seconds\n",
      "Training time in minutes: 28.752 minutes\n"
     ]
    }
   ],
   "source": [
    "import time\n",
    "start_time = time.time()\n",
    "from keras.callbacks import ModelCheckpoint\n",
    "\n",
    "checkpointer = ModelCheckpoint(filepath='signlanguage.model.hdf5', save_best_only=True)\n",
    "\n",
    "history = new_model.fit_generator(train_batches, steps_per_epoch=18,\n",
    "                   validation_data=valid_batches, validation_steps=3, epochs=20, verbose=1, callbacks=[checkpointer])\n",
    "end_time = time.time()\n",
    "train_time_in_minutes = (end_time - start_time) / 60.0\n",
    "train_time = end_time - start_time\n",
    "print(f\"Training time: {train_time:.3f} seconds\")\n",
    "print(f\"Training time in minutes: {train_time_in_minutes:.3f} minutes\")"
   ]
  },
  {
   "cell_type": "code",
   "execution_count": 39,
   "id": "4920aa1a",
   "metadata": {},
   "outputs": [],
   "source": [
    "def load_dataset(path):\n",
    "    data = load_files(path)\n",
    "    paths = np.array(data['filenames'])\n",
    "    targets = np_utils.to_categorical(np.array(data['target']))\n",
    "    return paths, targets"
   ]
  },
  {
   "cell_type": "code",
   "execution_count": 40,
   "id": "9649efa6",
   "metadata": {},
   "outputs": [],
   "source": [
    "from sklearn.datasets import load_files\n",
    "from keras.utils import np_utils\n",
    "import numpy as np\n",
    "\n",
    "test_files, test_targets = load_dataset('C:/Users/subeh/OneDrive/Desktop/deep_learning_for_vision_systems/chapter_06/sign_language_project/dataset/test')"
   ]
  },
  {
   "cell_type": "code",
   "execution_count": 41,
   "id": "636bc73d",
   "metadata": {},
   "outputs": [
    {
     "name": "stderr",
     "output_type": "stream",
     "text": [
      "100%|█████████████████████████████████████████████████████████████████████████████████| 50/50 [00:00<00:00, 592.01it/s]\n"
     ]
    }
   ],
   "source": [
    "from keras.preprocessing import image  \n",
    "from keras.applications.vgg16 import preprocess_input\n",
    "from tensorflow.keras.preprocessing import image #wrire this to solve the error 'image.load_img'\n",
    "from tqdm import tqdm\n",
    "\n",
    "def path_to_tensor(img_path):\n",
    "    # loads RGB image as PIL.Image.Image type\n",
    "    img = image.load_img(img_path, target_size=(224, 224))\n",
    "    # convert PIL.Image.Image type to 3D tensor with shape (224, 224, 3)\n",
    "    x = image.img_to_array(img)\n",
    "    # convert 3D tensor to 4D tensor with shape (1, 224, 224, 3) and return 4D tensor\n",
    "    return np.expand_dims(x, axis=0)\n",
    "\n",
    "def paths_to_tensor(img_paths):\n",
    "    list_of_tensors = [path_to_tensor(img_path) for img_path in tqdm(img_paths)]\n",
    "    return np.vstack(list_of_tensors)\n",
    "\n",
    "test_tensors = preprocess_input(paths_to_tensor(test_files))"
   ]
  },
  {
   "cell_type": "code",
   "execution_count": 42,
   "id": "19d7e55f",
   "metadata": {},
   "outputs": [],
   "source": [
    "new_model.load_weights('signlanguage.model.hdf5')"
   ]
  },
  {
   "cell_type": "code",
   "execution_count": 43,
   "id": "e74167a8",
   "metadata": {},
   "outputs": [
    {
     "name": "stdout",
     "output_type": "stream",
     "text": [
      "2/2 [==============================] - 8s 3s/step - loss: 0.2234 - accuracy: 0.9600\n",
      "\n",
      "Testing loss: 0.2234\n",
      "Testing accuracy: 0.9600\n"
     ]
    }
   ],
   "source": [
    "print('\\nTesting loss: {:.4f}\\nTesting accuracy: {:.4f}'.format(*new_model.evaluate(test_tensors, test_targets)))\n"
   ]
  },
  {
   "cell_type": "code",
   "execution_count": 44,
   "id": "c441eff0",
   "metadata": {},
   "outputs": [
    {
     "name": "stdout",
     "output_type": "stream",
     "text": [
      "Once deleted, variables cannot be recovered. Proceed (y/[n])? y\n"
     ]
    }
   ],
   "source": [
    "%reset"
   ]
  },
  {
   "cell_type": "code",
   "execution_count": null,
   "id": "6bbdc45f",
   "metadata": {},
   "outputs": [],
   "source": [
    "#-10"
   ]
  },
  {
   "cell_type": "code",
   "execution_count": 51,
   "id": "3fdb8112",
   "metadata": {},
   "outputs": [
    {
     "name": "stdout",
     "output_type": "stream",
     "text": [
      "Found 1712 images belonging to 10 classes.\n",
      "Found 300 images belonging to 10 classes.\n",
      "Found 50 images belonging to 10 classes.\n",
      "Model: \"vgg16\"\n",
      "_________________________________________________________________\n",
      " Layer (type)                Output Shape              Param #   \n",
      "=================================================================\n",
      " input_4 (InputLayer)        [(None, 224, 224, 3)]     0         \n",
      "                                                                 \n",
      " block1_conv1 (Conv2D)       (None, 224, 224, 64)      1792      \n",
      "                                                                 \n",
      " block1_conv2 (Conv2D)       (None, 224, 224, 64)      36928     \n",
      "                                                                 \n",
      " block1_pool (MaxPooling2D)  (None, 112, 112, 64)      0         \n",
      "                                                                 \n",
      " block2_conv1 (Conv2D)       (None, 112, 112, 128)     73856     \n",
      "                                                                 \n",
      " block2_conv2 (Conv2D)       (None, 112, 112, 128)     147584    \n",
      "                                                                 \n",
      " block2_pool (MaxPooling2D)  (None, 56, 56, 128)       0         \n",
      "                                                                 \n",
      " block3_conv1 (Conv2D)       (None, 56, 56, 256)       295168    \n",
      "                                                                 \n",
      " block3_conv2 (Conv2D)       (None, 56, 56, 256)       590080    \n",
      "                                                                 \n",
      " block3_conv3 (Conv2D)       (None, 56, 56, 256)       590080    \n",
      "                                                                 \n",
      " block3_pool (MaxPooling2D)  (None, 28, 28, 256)       0         \n",
      "                                                                 \n",
      " block4_conv1 (Conv2D)       (None, 28, 28, 512)       1180160   \n",
      "                                                                 \n",
      " block4_conv2 (Conv2D)       (None, 28, 28, 512)       2359808   \n",
      "                                                                 \n",
      " block4_conv3 (Conv2D)       (None, 28, 28, 512)       2359808   \n",
      "                                                                 \n",
      " block4_pool (MaxPooling2D)  (None, 14, 14, 512)       0         \n",
      "                                                                 \n",
      " block5_conv1 (Conv2D)       (None, 14, 14, 512)       2359808   \n",
      "                                                                 \n",
      " block5_conv2 (Conv2D)       (None, 14, 14, 512)       2359808   \n",
      "                                                                 \n",
      " block5_conv3 (Conv2D)       (None, 14, 14, 512)       2359808   \n",
      "                                                                 \n",
      " block5_pool (MaxPooling2D)  (None, 7, 7, 512)         0         \n",
      "                                                                 \n",
      " global_average_pooling2d_3   (None, 512)              0         \n",
      " (GlobalAveragePooling2D)                                        \n",
      "                                                                 \n",
      "=================================================================\n",
      "Total params: 14,714,688\n",
      "Trainable params: 14,714,688\n",
      "Non-trainable params: 0\n",
      "_________________________________________________________________\n"
     ]
    }
   ],
   "source": [
    "from keras.preprocessing.image import ImageDataGenerator\n",
    "from keras.preprocessing import image\n",
    "from keras.applications import imagenet_utils\n",
    "from keras.applications import vgg16\n",
    "from tensorflow.keras.optimizers import Adam, SGD\n",
    "from keras.metrics import categorical_crossentropy\n",
    "\n",
    "from keras.layers import Dense, Flatten, Dropout, BatchNormalization\n",
    "from keras.models import Model\n",
    "\n",
    "from sklearn.metrics import confusion_matrix\n",
    "import itertools\n",
    "import matplotlib.pyplot as plt\n",
    "%matplotlib inline\n",
    "train_path  = 'C:/Users/subeh/OneDrive/Desktop/deep_learning_for_vision_systems/chapter_06/sign_language_project/dataset/train'\n",
    "valid_path  = 'C:/Users/subeh/OneDrive/Desktop/deep_learning_for_vision_systems/chapter_06/sign_language_project/dataset/valid'\n",
    "test_path  = 'C:/Users/subeh/OneDrive/Desktop/deep_learning_for_vision_systems/chapter_06/sign_language_project/dataset/test'\n",
    "# ImageDataGenerator generates batches of tensor image data with real-time data augmentation. \n",
    "# The data will be looped over (in batches).\n",
    "# in this example, we won't be doing any image augmentation\n",
    "train_batches = ImageDataGenerator().flow_from_directory(train_path, \n",
    "                                                         target_size=(224,224), \n",
    "                                                         batch_size=10)\n",
    "\n",
    "valid_batches = ImageDataGenerator().flow_from_directory(valid_path,\n",
    "                                                         target_size=(224,224), \n",
    "                                                         batch_size=30)\n",
    "\n",
    "test_batches = ImageDataGenerator().flow_from_directory(test_path, \n",
    "                                                        target_size=(224,224), \n",
    "                                                        batch_size=50, \n",
    "                                                        shuffle=False)\n",
    "base_model = vgg16.VGG16(weights = \"imagenet\", include_top=False, input_shape = (224,224, 3), pooling='avg')\n",
    "base_model.summary()"
   ]
  },
  {
   "cell_type": "code",
   "execution_count": 52,
   "id": "a43139ce",
   "metadata": {},
   "outputs": [
    {
     "name": "stdout",
     "output_type": "stream",
     "text": [
      "Epoch 1/20\n"
     ]
    },
    {
     "name": "stderr",
     "output_type": "stream",
     "text": [
      "C:\\Users\\subeh\\AppData\\Local\\Temp\\ipykernel_15096\\2203314509.py:18: UserWarning: `Model.fit_generator` is deprecated and will be removed in a future version. Please use `Model.fit`, which supports generators.\n",
      "  history = new_model.fit_generator(train_batches, steps_per_epoch=18,\n"
     ]
    },
    {
     "name": "stdout",
     "output_type": "stream",
     "text": [
      "18/18 [==============================] - 81s 4s/step - loss: 3.6055 - accuracy: 0.0778 - val_loss: 2.2839 - val_accuracy: 0.1667\n",
      "Epoch 2/20\n",
      "18/18 [==============================] - 83s 5s/step - loss: 2.3062 - accuracy: 0.1222 - val_loss: 2.2687 - val_accuracy: 0.1778\n",
      "Epoch 3/20\n",
      "18/18 [==============================] - 81s 5s/step - loss: 2.2465 - accuracy: 0.1722 - val_loss: 2.1629 - val_accuracy: 0.1889\n",
      "Epoch 4/20\n",
      "18/18 [==============================] - 79s 4s/step - loss: 2.2118 - accuracy: 0.1500 - val_loss: 2.0548 - val_accuracy: 0.2444\n",
      "Epoch 5/20\n",
      "18/18 [==============================] - 78s 4s/step - loss: 1.9927 - accuracy: 0.2167 - val_loss: 1.9643 - val_accuracy: 0.2778\n",
      "Epoch 6/20\n",
      "18/18 [==============================] - 83s 5s/step - loss: 1.8501 - accuracy: 0.2889 - val_loss: 1.8786 - val_accuracy: 0.3000\n",
      "Epoch 7/20\n",
      "18/18 [==============================] - 79s 4s/step - loss: 1.6592 - accuracy: 0.3667 - val_loss: 1.5591 - val_accuracy: 0.3667\n",
      "Epoch 8/20\n",
      "18/18 [==============================] - 80s 5s/step - loss: 1.5637 - accuracy: 0.4111 - val_loss: 1.4001 - val_accuracy: 0.5778\n",
      "Epoch 9/20\n",
      "18/18 [==============================] - 80s 4s/step - loss: 1.4616 - accuracy: 0.4333 - val_loss: 1.2039 - val_accuracy: 0.5778\n",
      "Epoch 10/20\n",
      "18/18 [==============================] - 81s 5s/step - loss: 0.9697 - accuracy: 0.6889 - val_loss: 1.1838 - val_accuracy: 0.6111\n",
      "Epoch 11/20\n",
      "18/18 [==============================] - 82s 5s/step - loss: 0.8532 - accuracy: 0.6889 - val_loss: 0.9504 - val_accuracy: 0.6444\n",
      "Epoch 12/20\n",
      "18/18 [==============================] - 80s 4s/step - loss: 0.8154 - accuracy: 0.6722 - val_loss: 0.7272 - val_accuracy: 0.6778\n",
      "Epoch 13/20\n",
      "18/18 [==============================] - 81s 5s/step - loss: 0.5602 - accuracy: 0.8444 - val_loss: 0.7071 - val_accuracy: 0.8667\n",
      "Epoch 14/20\n",
      "18/18 [==============================] - 79s 4s/step - loss: 0.4173 - accuracy: 0.8611 - val_loss: 0.3145 - val_accuracy: 0.9333\n",
      "Epoch 15/20\n",
      "18/18 [==============================] - 76s 4s/step - loss: 0.2649 - accuracy: 0.9302 - val_loss: 0.3704 - val_accuracy: 0.9333\n",
      "Epoch 16/20\n",
      "18/18 [==============================] - 82s 5s/step - loss: 0.1233 - accuracy: 0.9444 - val_loss: 0.4227 - val_accuracy: 0.9333\n",
      "Epoch 17/20\n",
      "18/18 [==============================] - 77s 4s/step - loss: 0.2372 - accuracy: 0.9278 - val_loss: 0.4533 - val_accuracy: 0.9111\n",
      "Epoch 18/20\n",
      "18/18 [==============================] - 76s 4s/step - loss: 0.1345 - accuracy: 0.9500 - val_loss: 0.6197 - val_accuracy: 0.8778\n",
      "Epoch 19/20\n",
      "18/18 [==============================] - 77s 4s/step - loss: 0.1068 - accuracy: 0.9722 - val_loss: 0.2083 - val_accuracy: 0.9667\n",
      "Epoch 20/20\n",
      "18/18 [==============================] - 79s 4s/step - loss: 0.1006 - accuracy: 0.9667 - val_loss: 0.1577 - val_accuracy: 0.9444\n",
      "Training time: 1596.257 seconds\n",
      "Training time in minutes: 26.604 minutes\n"
     ]
    }
   ],
   "source": [
    "# iterate through its layers and lock them to make them not trainable with this code\n",
    "for layer in base_model.layers[:-10]:\n",
    "    layer.trainable = False\n",
    "last_layer = base_model.get_layer('global_average_pooling2d_3')\n",
    "\n",
    "last_output = last_layer.output\n",
    "\n",
    "x = Dense(10, activation='softmax', name='softmax')(last_output)\n",
    "\n",
    "new_model = Model(inputs=base_model.input, outputs=x)\n",
    "new_model.compile(Adam(learning_rate=0.0001), loss='categorical_crossentropy', metrics=['accuracy'])\n",
    "import time\n",
    "start_time = time.time()\n",
    "from keras.callbacks import ModelCheckpoint\n",
    "\n",
    "checkpointer = ModelCheckpoint(filepath='signlanguage.model.hdf5', save_best_only=True)\n",
    "\n",
    "history = new_model.fit_generator(train_batches, steps_per_epoch=18,\n",
    "                   validation_data=valid_batches, validation_steps=3, epochs=20, verbose=1, callbacks=[checkpointer])\n",
    "end_time = time.time()\n",
    "train_time_in_minutes = (end_time - start_time) / 60.0\n",
    "train_time = end_time - start_time\n",
    "print(f\"Training time: {train_time:.3f} seconds\")\n",
    "print(f\"Training time in minutes: {train_time_in_minutes:.3f} minutes\")\n",
    "\n"
   ]
  },
  {
   "cell_type": "code",
   "execution_count": 53,
   "id": "eff35016",
   "metadata": {},
   "outputs": [],
   "source": [
    "def load_dataset(path):\n",
    "    data = load_files(path)\n",
    "    paths = np.array(data['filenames'])\n",
    "    targets = np_utils.to_categorical(np.array(data['target']))\n",
    "    return paths, targets"
   ]
  },
  {
   "cell_type": "code",
   "execution_count": 56,
   "id": "50751dd7",
   "metadata": {},
   "outputs": [
    {
     "name": "stderr",
     "output_type": "stream",
     "text": [
      "100%|█████████████████████████████████████████████████████████████████████████████████| 50/50 [00:00<00:00, 551.69it/s]\n",
      "100%|███████████████████████████████████████████████████████████████████████████████| 300/300 [00:00<00:00, 595.52it/s]\n"
     ]
    },
    {
     "name": "stdout",
     "output_type": "stream",
     "text": [
      "10/10 [==============================] - 53s 5s/step - loss: 0.4518 - accuracy: 0.8300\n",
      "\u000b",
      "al loss: 0.4518\u000b",
      "al accuracy: 0.8300\n",
      "2/2 [==============================] - 10s 4s/step - loss: 0.5621 - accuracy: 0.8200\n",
      "\n",
      "Testing loss: 0.5621\n",
      "Testing accuracy: 0.8200\n"
     ]
    }
   ],
   "source": [
    "from sklearn.datasets import load_files\n",
    "from keras.utils import np_utils\n",
    "import numpy as np\n",
    "\n",
    "test_files, test_targets = load_dataset('C:/Users/subeh/OneDrive/Desktop/deep_learning_for_vision_systems/chapter_06/sign_language_project/dataset/test')\n",
    "valid_files, valid_targets = load_dataset('C:/Users/subeh/OneDrive/Desktop/deep_learning_for_vision_systems/chapter_06/sign_language_project/dataset/valid')\n",
    "\n",
    "from keras.preprocessing import image  \n",
    "from keras.applications.vgg16 import preprocess_input\n",
    "from tensorflow.keras.preprocessing import image #wrire this to solve the error 'image.load_img'\n",
    "from tqdm import tqdm\n",
    "\n",
    "def path_to_tensor(img_path):\n",
    "    # loads RGB image as PIL.Image.Image type\n",
    "    img = image.load_img(img_path, target_size=(224, 224))\n",
    "    # convert PIL.Image.Image type to 3D tensor with shape (224, 224, 3)\n",
    "    x = image.img_to_array(img)\n",
    "    # convert 3D tensor to 4D tensor with shape (1, 224, 224, 3) and return 4D tensor\n",
    "    return np.expand_dims(x, axis=0)\n",
    "\n",
    "def paths_to_tensor(img_paths):\n",
    "    list_of_tensors = [path_to_tensor(img_path) for img_path in tqdm(img_paths)]\n",
    "    return np.vstack(list_of_tensors)\n",
    "\n",
    "test_tensors = preprocess_input(paths_to_tensor(test_files))\n",
    "val_tensors = preprocess_input(paths_to_tensor(valid_files))\n",
    "\n",
    "new_model.load_weights('signlanguage.model.hdf5')\n",
    "print('\\nval loss: {:.4f}\\nval accuracy: {:.4f}'.format(*new_model.evaluate(val_tensors, valid_targets)))\n",
    "print('\\nTesting loss: {:.4f}\\nTesting accuracy: {:.4f}'.format(*new_model.evaluate(test_tensors, test_targets)))\n",
    "                        \n"
   ]
  },
  {
   "cell_type": "code",
   "execution_count": 57,
   "id": "cbce2ead",
   "metadata": {},
   "outputs": [
    {
     "name": "stdout",
     "output_type": "stream",
     "text": [
      "Once deleted, variables cannot be recovered. Proceed (y/[n])? y\n"
     ]
    }
   ],
   "source": [
    "%reset"
   ]
  },
  {
   "cell_type": "code",
   "execution_count": null,
   "id": "82ed5c97",
   "metadata": {},
   "outputs": [],
   "source": [
    "#-9"
   ]
  },
  {
   "cell_type": "code",
   "execution_count": 58,
   "id": "86931fe9",
   "metadata": {},
   "outputs": [
    {
     "name": "stdout",
     "output_type": "stream",
     "text": [
      "Found 1712 images belonging to 10 classes.\n",
      "Found 300 images belonging to 10 classes.\n",
      "Found 50 images belonging to 10 classes.\n",
      "Model: \"vgg16\"\n",
      "_________________________________________________________________\n",
      " Layer (type)                Output Shape              Param #   \n",
      "=================================================================\n",
      " input_5 (InputLayer)        [(None, 224, 224, 3)]     0         \n",
      "                                                                 \n",
      " block1_conv1 (Conv2D)       (None, 224, 224, 64)      1792      \n",
      "                                                                 \n",
      " block1_conv2 (Conv2D)       (None, 224, 224, 64)      36928     \n",
      "                                                                 \n",
      " block1_pool (MaxPooling2D)  (None, 112, 112, 64)      0         \n",
      "                                                                 \n",
      " block2_conv1 (Conv2D)       (None, 112, 112, 128)     73856     \n",
      "                                                                 \n",
      " block2_conv2 (Conv2D)       (None, 112, 112, 128)     147584    \n",
      "                                                                 \n",
      " block2_pool (MaxPooling2D)  (None, 56, 56, 128)       0         \n",
      "                                                                 \n",
      " block3_conv1 (Conv2D)       (None, 56, 56, 256)       295168    \n",
      "                                                                 \n",
      " block3_conv2 (Conv2D)       (None, 56, 56, 256)       590080    \n",
      "                                                                 \n",
      " block3_conv3 (Conv2D)       (None, 56, 56, 256)       590080    \n",
      "                                                                 \n",
      " block3_pool (MaxPooling2D)  (None, 28, 28, 256)       0         \n",
      "                                                                 \n",
      " block4_conv1 (Conv2D)       (None, 28, 28, 512)       1180160   \n",
      "                                                                 \n",
      " block4_conv2 (Conv2D)       (None, 28, 28, 512)       2359808   \n",
      "                                                                 \n",
      " block4_conv3 (Conv2D)       (None, 28, 28, 512)       2359808   \n",
      "                                                                 \n",
      " block4_pool (MaxPooling2D)  (None, 14, 14, 512)       0         \n",
      "                                                                 \n",
      " block5_conv1 (Conv2D)       (None, 14, 14, 512)       2359808   \n",
      "                                                                 \n",
      " block5_conv2 (Conv2D)       (None, 14, 14, 512)       2359808   \n",
      "                                                                 \n",
      " block5_conv3 (Conv2D)       (None, 14, 14, 512)       2359808   \n",
      "                                                                 \n",
      " block5_pool (MaxPooling2D)  (None, 7, 7, 512)         0         \n",
      "                                                                 \n",
      " global_average_pooling2d_4   (None, 512)              0         \n",
      " (GlobalAveragePooling2D)                                        \n",
      "                                                                 \n",
      "=================================================================\n",
      "Total params: 14,714,688\n",
      "Trainable params: 14,714,688\n",
      "Non-trainable params: 0\n",
      "_________________________________________________________________\n"
     ]
    }
   ],
   "source": [
    "from keras.preprocessing.image import ImageDataGenerator\n",
    "from keras.preprocessing import image\n",
    "from keras.applications import imagenet_utils\n",
    "from keras.applications import vgg16\n",
    "from tensorflow.keras.optimizers import Adam, SGD\n",
    "from keras.metrics import categorical_crossentropy\n",
    "\n",
    "from keras.layers import Dense, Flatten, Dropout, BatchNormalization\n",
    "from keras.models import Model\n",
    "\n",
    "from sklearn.metrics import confusion_matrix\n",
    "import itertools\n",
    "import matplotlib.pyplot as plt\n",
    "%matplotlib inline\n",
    "train_path  = 'C:/Users/subeh/OneDrive/Desktop/deep_learning_for_vision_systems/chapter_06/sign_language_project/dataset/train'\n",
    "valid_path  = 'C:/Users/subeh/OneDrive/Desktop/deep_learning_for_vision_systems/chapter_06/sign_language_project/dataset/valid'\n",
    "test_path  = 'C:/Users/subeh/OneDrive/Desktop/deep_learning_for_vision_systems/chapter_06/sign_language_project/dataset/test'\n",
    "# ImageDataGenerator generates batches of tensor image data with real-time data augmentation. \n",
    "# The data will be looped over (in batches).\n",
    "# in this example, we won't be doing any image augmentation\n",
    "train_batches = ImageDataGenerator().flow_from_directory(train_path, \n",
    "                                                         target_size=(224,224), \n",
    "                                                         batch_size=10)\n",
    "\n",
    "valid_batches = ImageDataGenerator().flow_from_directory(valid_path,\n",
    "                                                         target_size=(224,224), \n",
    "                                                         batch_size=30)\n",
    "\n",
    "test_batches = ImageDataGenerator().flow_from_directory(test_path, \n",
    "                                                        target_size=(224,224), \n",
    "                                                        batch_size=50, \n",
    "                                                        shuffle=False)\n",
    "base_model = vgg16.VGG16(weights = \"imagenet\", include_top=False, input_shape = (224,224, 3), pooling='avg')\n",
    "base_model.summary()"
   ]
  },
  {
   "cell_type": "code",
   "execution_count": 59,
   "id": "e284dd5d",
   "metadata": {},
   "outputs": [
    {
     "name": "stdout",
     "output_type": "stream",
     "text": [
      "Epoch 1/20\n"
     ]
    },
    {
     "name": "stderr",
     "output_type": "stream",
     "text": [
      "C:\\Users\\subeh\\AppData\\Local\\Temp\\ipykernel_15096\\730132684.py:18: UserWarning: `Model.fit_generator` is deprecated and will be removed in a future version. Please use `Model.fit`, which supports generators.\n",
      "  history = new_model.fit_generator(train_batches, steps_per_epoch=18,\n"
     ]
    },
    {
     "name": "stdout",
     "output_type": "stream",
     "text": [
      "18/18 [==============================] - 80s 4s/step - loss: 3.1349 - accuracy: 0.1667 - val_loss: 2.1420 - val_accuracy: 0.2222\n",
      "Epoch 2/20\n",
      "18/18 [==============================] - 81s 5s/step - loss: 1.9601 - accuracy: 0.3000 - val_loss: 1.5818 - val_accuracy: 0.3778\n",
      "Epoch 3/20\n",
      "18/18 [==============================] - 81s 5s/step - loss: 1.4105 - accuracy: 0.4278 - val_loss: 1.3319 - val_accuracy: 0.4889\n",
      "Epoch 4/20\n",
      "18/18 [==============================] - 76s 4s/step - loss: 1.1179 - accuracy: 0.5667 - val_loss: 0.8537 - val_accuracy: 0.7000\n",
      "Epoch 5/20\n",
      "18/18 [==============================] - 81s 5s/step - loss: 0.7691 - accuracy: 0.7111 - val_loss: 0.7239 - val_accuracy: 0.7778\n",
      "Epoch 6/20\n",
      "18/18 [==============================] - 80s 4s/step - loss: 0.6281 - accuracy: 0.7278 - val_loss: 0.6982 - val_accuracy: 0.7667\n",
      "Epoch 7/20\n",
      "18/18 [==============================] - 81s 5s/step - loss: 0.5116 - accuracy: 0.8278 - val_loss: 0.4287 - val_accuracy: 0.8778\n",
      "Epoch 8/20\n",
      "18/18 [==============================] - 79s 4s/step - loss: 0.5316 - accuracy: 0.8722 - val_loss: 0.7912 - val_accuracy: 0.7333\n",
      "Epoch 9/20\n",
      "18/18 [==============================] - 75s 4s/step - loss: 0.5864 - accuracy: 0.8023 - val_loss: 0.2830 - val_accuracy: 0.9444\n",
      "Epoch 10/20\n",
      "18/18 [==============================] - 74s 4s/step - loss: 0.3036 - accuracy: 0.9128 - val_loss: 0.2650 - val_accuracy: 0.9111\n",
      "Epoch 11/20\n",
      "18/18 [==============================] - 75s 4s/step - loss: 0.5638 - accuracy: 0.8372 - val_loss: 0.2512 - val_accuracy: 0.9000\n",
      "Epoch 12/20\n",
      "18/18 [==============================] - 75s 4s/step - loss: 0.1237 - accuracy: 0.9709 - val_loss: 0.1454 - val_accuracy: 0.9444\n",
      "Epoch 13/20\n",
      "18/18 [==============================] - 77s 4s/step - loss: 0.1535 - accuracy: 0.9611 - val_loss: 0.2161 - val_accuracy: 0.9444\n",
      "Epoch 14/20\n",
      "18/18 [==============================] - 77s 4s/step - loss: 0.3192 - accuracy: 0.9111 - val_loss: 0.1993 - val_accuracy: 0.9333\n",
      "Epoch 15/20\n",
      "18/18 [==============================] - 79s 4s/step - loss: 0.1229 - accuracy: 0.9556 - val_loss: 0.0747 - val_accuracy: 0.9778\n",
      "Epoch 16/20\n",
      "18/18 [==============================] - 76s 4s/step - loss: 0.0596 - accuracy: 0.9833 - val_loss: 0.1190 - val_accuracy: 0.9667\n",
      "Epoch 17/20\n",
      "18/18 [==============================] - 73s 4s/step - loss: 0.0647 - accuracy: 0.9709 - val_loss: 0.0258 - val_accuracy: 0.9889\n",
      "Epoch 18/20\n",
      "18/18 [==============================] - 75s 4s/step - loss: 0.0346 - accuracy: 0.9833 - val_loss: 0.1348 - val_accuracy: 0.9333\n",
      "Epoch 19/20\n",
      "18/18 [==============================] - 77s 4s/step - loss: 0.0759 - accuracy: 0.9778 - val_loss: 0.2695 - val_accuracy: 0.9667\n",
      "Epoch 20/20\n",
      "18/18 [==============================] - 77s 4s/step - loss: 0.0288 - accuracy: 0.9944 - val_loss: 0.3197 - val_accuracy: 0.9778\n",
      "Training time: 1550.216 seconds\n",
      "Training time in minutes: 25.837 minutes\n"
     ]
    }
   ],
   "source": [
    "# iterate through its layers and lock them to make them not trainable with this code\n",
    "for layer in base_model.layers[:-9]:\n",
    "    layer.trainable = False\n",
    "last_layer = base_model.get_layer('global_average_pooling2d_4')\n",
    "\n",
    "last_output = last_layer.output\n",
    "\n",
    "x = Dense(10, activation='softmax', name='softmax')(last_output)\n",
    "\n",
    "new_model = Model(inputs=base_model.input, outputs=x)\n",
    "new_model.compile(Adam(learning_rate=0.0001), loss='categorical_crossentropy', metrics=['accuracy'])\n",
    "import time\n",
    "start_time = time.time()\n",
    "from keras.callbacks import ModelCheckpoint\n",
    "\n",
    "checkpointer = ModelCheckpoint(filepath='signlanguage.model.hdf5', save_best_only=True)\n",
    "\n",
    "history = new_model.fit_generator(train_batches, steps_per_epoch=18,\n",
    "                   validation_data=valid_batches, validation_steps=3, epochs=20, verbose=1, callbacks=[checkpointer])\n",
    "end_time = time.time()\n",
    "train_time_in_minutes = (end_time - start_time) / 60.0\n",
    "train_time = end_time - start_time\n",
    "print(f\"Training time: {train_time:.3f} seconds\")\n",
    "print(f\"Training time in minutes: {train_time_in_minutes:.3f} minutes\")"
   ]
  },
  {
   "cell_type": "code",
   "execution_count": 60,
   "id": "b76cc128",
   "metadata": {},
   "outputs": [
    {
     "name": "stderr",
     "output_type": "stream",
     "text": [
      "100%|█████████████████████████████████████████████████████████████████████████████████| 50/50 [00:00<00:00, 616.69it/s]\n",
      "100%|███████████████████████████████████████████████████████████████████████████████| 300/300 [00:00<00:00, 747.48it/s]\n"
     ]
    },
    {
     "name": "stdout",
     "output_type": "stream",
     "text": [
      "10/10 [==============================] - 52s 5s/step - loss: 0.1488 - accuracy: 0.9733\n",
      "\n",
      "val loss: 0.1488\n",
      "val accuracy: 0.9733\n",
      "2/2 [==============================] - 9s 3s/step - loss: 0.1441 - accuracy: 0.9400\n",
      "\n",
      "Testing loss: 0.1441\n",
      "Testing accuracy: 0.9400\n"
     ]
    }
   ],
   "source": [
    "def load_dataset(path):\n",
    "    data = load_files(path)\n",
    "    paths = np.array(data['filenames'])\n",
    "    targets = np_utils.to_categorical(np.array(data['target']))\n",
    "    return paths, targets\n",
    "from sklearn.datasets import load_files\n",
    "from keras.utils import np_utils\n",
    "import numpy as np\n",
    "\n",
    "test_files, test_targets = load_dataset('C:/Users/subeh/OneDrive/Desktop/deep_learning_for_vision_systems/chapter_06/sign_language_project/dataset/test')\n",
    "valid_files, valid_targets = load_dataset('C:/Users/subeh/OneDrive/Desktop/deep_learning_for_vision_systems/chapter_06/sign_language_project/dataset/valid')\n",
    "\n",
    "from keras.preprocessing import image  \n",
    "from keras.applications.vgg16 import preprocess_input\n",
    "from tensorflow.keras.preprocessing import image #wrire this to solve the error 'image.load_img'\n",
    "from tqdm import tqdm\n",
    "\n",
    "def path_to_tensor(img_path):\n",
    "    # loads RGB image as PIL.Image.Image type\n",
    "    img = image.load_img(img_path, target_size=(224, 224))\n",
    "    # convert PIL.Image.Image type to 3D tensor with shape (224, 224, 3)\n",
    "    x = image.img_to_array(img)\n",
    "    # convert 3D tensor to 4D tensor with shape (1, 224, 224, 3) and return 4D tensor\n",
    "    return np.expand_dims(x, axis=0)\n",
    "\n",
    "def paths_to_tensor(img_paths):\n",
    "    list_of_tensors = [path_to_tensor(img_path) for img_path in tqdm(img_paths)]\n",
    "    return np.vstack(list_of_tensors)\n",
    "\n",
    "test_tensors = preprocess_input(paths_to_tensor(test_files))\n",
    "val_tensors = preprocess_input(paths_to_tensor(valid_files))\n",
    "\n",
    "new_model.load_weights('signlanguage.model.hdf5')\n",
    "print('\\nval loss: {:.4f}\\nval accuracy: {:.4f}'.format(*new_model.evaluate(val_tensors, valid_targets)))\n",
    "print('\\nTesting loss: {:.4f}\\nTesting accuracy: {:.4f}'.format(*new_model.evaluate(test_tensors, test_targets)))"
   ]
  },
  {
   "cell_type": "code",
   "execution_count": 61,
   "id": "7965b3d5",
   "metadata": {},
   "outputs": [
    {
     "name": "stdout",
     "output_type": "stream",
     "text": [
      "Once deleted, variables cannot be recovered. Proceed (y/[n])? y\n"
     ]
    }
   ],
   "source": [
    "%reset"
   ]
  },
  {
   "cell_type": "code",
   "execution_count": null,
   "id": "bed60f85",
   "metadata": {},
   "outputs": [],
   "source": [
    "#-8"
   ]
  },
  {
   "cell_type": "code",
   "execution_count": 62,
   "id": "c3fd6315",
   "metadata": {},
   "outputs": [
    {
     "name": "stdout",
     "output_type": "stream",
     "text": [
      "Found 1712 images belonging to 10 classes.\n",
      "Found 300 images belonging to 10 classes.\n",
      "Found 50 images belonging to 10 classes.\n",
      "Model: \"vgg16\"\n",
      "_________________________________________________________________\n",
      " Layer (type)                Output Shape              Param #   \n",
      "=================================================================\n",
      " input_6 (InputLayer)        [(None, 224, 224, 3)]     0         \n",
      "                                                                 \n",
      " block1_conv1 (Conv2D)       (None, 224, 224, 64)      1792      \n",
      "                                                                 \n",
      " block1_conv2 (Conv2D)       (None, 224, 224, 64)      36928     \n",
      "                                                                 \n",
      " block1_pool (MaxPooling2D)  (None, 112, 112, 64)      0         \n",
      "                                                                 \n",
      " block2_conv1 (Conv2D)       (None, 112, 112, 128)     73856     \n",
      "                                                                 \n",
      " block2_conv2 (Conv2D)       (None, 112, 112, 128)     147584    \n",
      "                                                                 \n",
      " block2_pool (MaxPooling2D)  (None, 56, 56, 128)       0         \n",
      "                                                                 \n",
      " block3_conv1 (Conv2D)       (None, 56, 56, 256)       295168    \n",
      "                                                                 \n",
      " block3_conv2 (Conv2D)       (None, 56, 56, 256)       590080    \n",
      "                                                                 \n",
      " block3_conv3 (Conv2D)       (None, 56, 56, 256)       590080    \n",
      "                                                                 \n",
      " block3_pool (MaxPooling2D)  (None, 28, 28, 256)       0         \n",
      "                                                                 \n",
      " block4_conv1 (Conv2D)       (None, 28, 28, 512)       1180160   \n",
      "                                                                 \n",
      " block4_conv2 (Conv2D)       (None, 28, 28, 512)       2359808   \n",
      "                                                                 \n",
      " block4_conv3 (Conv2D)       (None, 28, 28, 512)       2359808   \n",
      "                                                                 \n",
      " block4_pool (MaxPooling2D)  (None, 14, 14, 512)       0         \n",
      "                                                                 \n",
      " block5_conv1 (Conv2D)       (None, 14, 14, 512)       2359808   \n",
      "                                                                 \n",
      " block5_conv2 (Conv2D)       (None, 14, 14, 512)       2359808   \n",
      "                                                                 \n",
      " block5_conv3 (Conv2D)       (None, 14, 14, 512)       2359808   \n",
      "                                                                 \n",
      " block5_pool (MaxPooling2D)  (None, 7, 7, 512)         0         \n",
      "                                                                 \n",
      " global_average_pooling2d_5   (None, 512)              0         \n",
      " (GlobalAveragePooling2D)                                        \n",
      "                                                                 \n",
      "=================================================================\n",
      "Total params: 14,714,688\n",
      "Trainable params: 14,714,688\n",
      "Non-trainable params: 0\n",
      "_________________________________________________________________\n"
     ]
    }
   ],
   "source": [
    "from keras.preprocessing.image import ImageDataGenerator\n",
    "from keras.preprocessing import image\n",
    "from keras.applications import imagenet_utils\n",
    "from keras.applications import vgg16\n",
    "from tensorflow.keras.optimizers import Adam, SGD\n",
    "from keras.metrics import categorical_crossentropy\n",
    "\n",
    "from keras.layers import Dense, Flatten, Dropout, BatchNormalization\n",
    "from keras.models import Model\n",
    "\n",
    "from sklearn.metrics import confusion_matrix\n",
    "import itertools\n",
    "import matplotlib.pyplot as plt\n",
    "%matplotlib inline\n",
    "train_path  = 'C:/Users/subeh/OneDrive/Desktop/deep_learning_for_vision_systems/chapter_06/sign_language_project/dataset/train'\n",
    "valid_path  = 'C:/Users/subeh/OneDrive/Desktop/deep_learning_for_vision_systems/chapter_06/sign_language_project/dataset/valid'\n",
    "test_path  = 'C:/Users/subeh/OneDrive/Desktop/deep_learning_for_vision_systems/chapter_06/sign_language_project/dataset/test'\n",
    "# ImageDataGenerator generates batches of tensor image data with real-time data augmentation. \n",
    "# The data will be looped over (in batches).\n",
    "# in this example, we won't be doing any image augmentation\n",
    "train_batches = ImageDataGenerator().flow_from_directory(train_path, \n",
    "                                                         target_size=(224,224), \n",
    "                                                         batch_size=10)\n",
    "\n",
    "valid_batches = ImageDataGenerator().flow_from_directory(valid_path,\n",
    "                                                         target_size=(224,224), \n",
    "                                                         batch_size=30)\n",
    "\n",
    "test_batches = ImageDataGenerator().flow_from_directory(test_path, \n",
    "                                                        target_size=(224,224), \n",
    "                                                        batch_size=50, \n",
    "                                                        shuffle=False)\n",
    "base_model = vgg16.VGG16(weights = \"imagenet\", include_top=False, input_shape = (224,224, 3), pooling='avg')\n",
    "base_model.summary()"
   ]
  },
  {
   "cell_type": "code",
   "execution_count": 63,
   "id": "24e2ecf7",
   "metadata": {},
   "outputs": [
    {
     "name": "stdout",
     "output_type": "stream",
     "text": [
      "Epoch 1/20\n"
     ]
    },
    {
     "name": "stderr",
     "output_type": "stream",
     "text": [
      "C:\\Users\\subeh\\AppData\\Local\\Temp\\ipykernel_15096\\715346089.py:18: UserWarning: `Model.fit_generator` is deprecated and will be removed in a future version. Please use `Model.fit`, which supports generators.\n",
      "  history = new_model.fit_generator(train_batches, steps_per_epoch=18,\n"
     ]
    },
    {
     "name": "stdout",
     "output_type": "stream",
     "text": [
      "18/18 [==============================] - 73s 4s/step - loss: 2.8848 - accuracy: 0.1667 - val_loss: 1.9062 - val_accuracy: 0.2444\n",
      "Epoch 2/20\n",
      "18/18 [==============================] - 72s 4s/step - loss: 1.9344 - accuracy: 0.3000 - val_loss: 1.5621 - val_accuracy: 0.4333\n",
      "Epoch 3/20\n",
      "18/18 [==============================] - 67s 4s/step - loss: 1.3726 - accuracy: 0.5058 - val_loss: 1.2883 - val_accuracy: 0.5333\n",
      "Epoch 4/20\n",
      "18/18 [==============================] - 69s 4s/step - loss: 1.2115 - accuracy: 0.5333 - val_loss: 0.9527 - val_accuracy: 0.6778\n",
      "Epoch 5/20\n",
      "18/18 [==============================] - 70s 4s/step - loss: 1.0401 - accuracy: 0.6000 - val_loss: 0.8833 - val_accuracy: 0.7111\n",
      "Epoch 6/20\n",
      "18/18 [==============================] - 69s 4s/step - loss: 0.6921 - accuracy: 0.7778 - val_loss: 0.6271 - val_accuracy: 0.7889\n",
      "Epoch 7/20\n",
      "18/18 [==============================] - 70s 4s/step - loss: 0.4116 - accuracy: 0.8372 - val_loss: 0.4791 - val_accuracy: 0.8444\n",
      "Epoch 8/20\n",
      "18/18 [==============================] - 67s 4s/step - loss: 0.3011 - accuracy: 0.9012 - val_loss: 0.4818 - val_accuracy: 0.8667\n",
      "Epoch 9/20\n",
      "18/18 [==============================] - 69s 4s/step - loss: 0.3675 - accuracy: 0.8833 - val_loss: 1.5193 - val_accuracy: 0.4778\n",
      "Epoch 10/20\n",
      "18/18 [==============================] - 69s 4s/step - loss: 0.5285 - accuracy: 0.8389 - val_loss: 0.4487 - val_accuracy: 0.7889\n",
      "Epoch 11/20\n",
      "18/18 [==============================] - 72s 4s/step - loss: 0.3078 - accuracy: 0.8889 - val_loss: 0.1987 - val_accuracy: 0.9333\n",
      "Epoch 12/20\n",
      "18/18 [==============================] - 69s 4s/step - loss: 0.1345 - accuracy: 0.9611 - val_loss: 0.3534 - val_accuracy: 0.9000\n",
      "Epoch 13/20\n",
      "18/18 [==============================] - 69s 4s/step - loss: 0.1499 - accuracy: 0.9444 - val_loss: 0.3261 - val_accuracy: 0.9222\n",
      "Epoch 14/20\n",
      "18/18 [==============================] - 69s 4s/step - loss: 0.0617 - accuracy: 0.9833 - val_loss: 0.1655 - val_accuracy: 0.9444\n",
      "Epoch 15/20\n",
      "18/18 [==============================] - 70s 4s/step - loss: 0.0346 - accuracy: 0.9944 - val_loss: 0.1367 - val_accuracy: 0.9667\n",
      "Epoch 16/20\n",
      "18/18 [==============================] - 69s 4s/step - loss: 0.2193 - accuracy: 0.9186 - val_loss: 0.5810 - val_accuracy: 0.8778\n",
      "Epoch 17/20\n",
      "18/18 [==============================] - 69s 4s/step - loss: 0.4904 - accuracy: 0.8611 - val_loss: 0.2333 - val_accuracy: 0.9333\n",
      "Epoch 18/20\n",
      "18/18 [==============================] - 69s 4s/step - loss: 0.1909 - accuracy: 0.9333 - val_loss: 0.6771 - val_accuracy: 0.8556\n",
      "Epoch 19/20\n",
      "18/18 [==============================] - 69s 4s/step - loss: 0.2644 - accuracy: 0.9500 - val_loss: 0.2292 - val_accuracy: 0.9556\n",
      "Epoch 20/20\n",
      "18/18 [==============================] - 71s 4s/step - loss: 0.0953 - accuracy: 0.9722 - val_loss: 0.1306 - val_accuracy: 0.9444\n",
      "Training time: 1393.190 seconds\n",
      "Training time in minutes: 23.220 minutes\n"
     ]
    }
   ],
   "source": [
    "# iterate through its layers and lock them to make them not trainable with this code\n",
    "for layer in base_model.layers[:-8]:\n",
    "    layer.trainable = False\n",
    "last_layer = base_model.get_layer('global_average_pooling2d_5')\n",
    "\n",
    "last_output = last_layer.output\n",
    "\n",
    "x = Dense(10, activation='softmax', name='softmax')(last_output)\n",
    "\n",
    "new_model = Model(inputs=base_model.input, outputs=x)\n",
    "new_model.compile(Adam(learning_rate=0.0001), loss='categorical_crossentropy', metrics=['accuracy'])\n",
    "import time\n",
    "start_time = time.time()\n",
    "from keras.callbacks import ModelCheckpoint\n",
    "\n",
    "checkpointer = ModelCheckpoint(filepath='signlanguage.model.hdf5', save_best_only=True)\n",
    "\n",
    "history = new_model.fit_generator(train_batches, steps_per_epoch=18,\n",
    "                   validation_data=valid_batches, validation_steps=3, epochs=20, verbose=1, callbacks=[checkpointer])\n",
    "end_time = time.time()\n",
    "train_time_in_minutes = (end_time - start_time) / 60.0\n",
    "train_time = end_time - start_time\n",
    "print(f\"Training time: {train_time:.3f} seconds\")\n",
    "print(f\"Training time in minutes: {train_time_in_minutes:.3f} minutes\")"
   ]
  },
  {
   "cell_type": "code",
   "execution_count": 64,
   "id": "9ecb7408",
   "metadata": {},
   "outputs": [
    {
     "name": "stderr",
     "output_type": "stream",
     "text": [
      "100%|█████████████████████████████████████████████████████████████████████████████████| 50/50 [00:00<00:00, 345.72it/s]\n",
      "100%|███████████████████████████████████████████████████████████████████████████████| 300/300 [00:00<00:00, 718.21it/s]\n"
     ]
    },
    {
     "name": "stdout",
     "output_type": "stream",
     "text": [
      "10/10 [==============================] - 52s 5s/step - loss: 0.2722 - accuracy: 0.9267\n",
      "\n",
      "val loss: 0.2722\n",
      "val accuracy: 0.9267\n",
      "2/2 [==============================] - 9s 3s/step - loss: 0.1893 - accuracy: 0.9400\n",
      "\n",
      "Testing loss: 0.1893\n",
      "Testing accuracy: 0.9400\n"
     ]
    }
   ],
   "source": [
    "def load_dataset(path):\n",
    "    data = load_files(path)\n",
    "    paths = np.array(data['filenames'])\n",
    "    targets = np_utils.to_categorical(np.array(data['target']))\n",
    "    return paths, targets\n",
    "from sklearn.datasets import load_files\n",
    "from keras.utils import np_utils\n",
    "import numpy as np\n",
    "\n",
    "test_files, test_targets = load_dataset('C:/Users/subeh/OneDrive/Desktop/deep_learning_for_vision_systems/chapter_06/sign_language_project/dataset/test')\n",
    "valid_files, valid_targets = load_dataset('C:/Users/subeh/OneDrive/Desktop/deep_learning_for_vision_systems/chapter_06/sign_language_project/dataset/valid')\n",
    "\n",
    "from keras.preprocessing import image  \n",
    "from keras.applications.vgg16 import preprocess_input\n",
    "from tensorflow.keras.preprocessing import image #wrire this to solve the error 'image.load_img'\n",
    "from tqdm import tqdm\n",
    "\n",
    "def path_to_tensor(img_path):\n",
    "    # loads RGB image as PIL.Image.Image type\n",
    "    img = image.load_img(img_path, target_size=(224, 224))\n",
    "    # convert PIL.Image.Image type to 3D tensor with shape (224, 224, 3)\n",
    "    x = image.img_to_array(img)\n",
    "    # convert 3D tensor to 4D tensor with shape (1, 224, 224, 3) and return 4D tensor\n",
    "    return np.expand_dims(x, axis=0)\n",
    "\n",
    "def paths_to_tensor(img_paths):\n",
    "    list_of_tensors = [path_to_tensor(img_path) for img_path in tqdm(img_paths)]\n",
    "    return np.vstack(list_of_tensors)\n",
    "\n",
    "test_tensors = preprocess_input(paths_to_tensor(test_files))\n",
    "val_tensors = preprocess_input(paths_to_tensor(valid_files))\n",
    "\n",
    "new_model.load_weights('signlanguage.model.hdf5')\n",
    "print('\\nval loss: {:.4f}\\nval accuracy: {:.4f}'.format(*new_model.evaluate(val_tensors, valid_targets)))\n",
    "print('\\nTesting loss: {:.4f}\\nTesting accuracy: {:.4f}'.format(*new_model.evaluate(test_tensors, test_targets)))"
   ]
  },
  {
   "cell_type": "code",
   "execution_count": 65,
   "id": "b45b2dd0",
   "metadata": {},
   "outputs": [
    {
     "name": "stdout",
     "output_type": "stream",
     "text": [
      "Once deleted, variables cannot be recovered. Proceed (y/[n])? y\n"
     ]
    }
   ],
   "source": [
    "%reset"
   ]
  },
  {
   "cell_type": "code",
   "execution_count": null,
   "id": "89abe111",
   "metadata": {},
   "outputs": [],
   "source": [
    "#-7"
   ]
  },
  {
   "cell_type": "code",
   "execution_count": 66,
   "id": "2209ff7d",
   "metadata": {},
   "outputs": [
    {
     "name": "stdout",
     "output_type": "stream",
     "text": [
      "Found 1712 images belonging to 10 classes.\n",
      "Found 300 images belonging to 10 classes.\n",
      "Found 50 images belonging to 10 classes.\n",
      "Model: \"vgg16\"\n",
      "_________________________________________________________________\n",
      " Layer (type)                Output Shape              Param #   \n",
      "=================================================================\n",
      " input_7 (InputLayer)        [(None, 224, 224, 3)]     0         \n",
      "                                                                 \n",
      " block1_conv1 (Conv2D)       (None, 224, 224, 64)      1792      \n",
      "                                                                 \n",
      " block1_conv2 (Conv2D)       (None, 224, 224, 64)      36928     \n",
      "                                                                 \n",
      " block1_pool (MaxPooling2D)  (None, 112, 112, 64)      0         \n",
      "                                                                 \n",
      " block2_conv1 (Conv2D)       (None, 112, 112, 128)     73856     \n",
      "                                                                 \n",
      " block2_conv2 (Conv2D)       (None, 112, 112, 128)     147584    \n",
      "                                                                 \n",
      " block2_pool (MaxPooling2D)  (None, 56, 56, 128)       0         \n",
      "                                                                 \n",
      " block3_conv1 (Conv2D)       (None, 56, 56, 256)       295168    \n",
      "                                                                 \n",
      " block3_conv2 (Conv2D)       (None, 56, 56, 256)       590080    \n",
      "                                                                 \n",
      " block3_conv3 (Conv2D)       (None, 56, 56, 256)       590080    \n",
      "                                                                 \n",
      " block3_pool (MaxPooling2D)  (None, 28, 28, 256)       0         \n",
      "                                                                 \n",
      " block4_conv1 (Conv2D)       (None, 28, 28, 512)       1180160   \n",
      "                                                                 \n",
      " block4_conv2 (Conv2D)       (None, 28, 28, 512)       2359808   \n",
      "                                                                 \n",
      " block4_conv3 (Conv2D)       (None, 28, 28, 512)       2359808   \n",
      "                                                                 \n",
      " block4_pool (MaxPooling2D)  (None, 14, 14, 512)       0         \n",
      "                                                                 \n",
      " block5_conv1 (Conv2D)       (None, 14, 14, 512)       2359808   \n",
      "                                                                 \n",
      " block5_conv2 (Conv2D)       (None, 14, 14, 512)       2359808   \n",
      "                                                                 \n",
      " block5_conv3 (Conv2D)       (None, 14, 14, 512)       2359808   \n",
      "                                                                 \n",
      " block5_pool (MaxPooling2D)  (None, 7, 7, 512)         0         \n",
      "                                                                 \n",
      " global_average_pooling2d_6   (None, 512)              0         \n",
      " (GlobalAveragePooling2D)                                        \n",
      "                                                                 \n",
      "=================================================================\n",
      "Total params: 14,714,688\n",
      "Trainable params: 14,714,688\n",
      "Non-trainable params: 0\n",
      "_________________________________________________________________\n"
     ]
    }
   ],
   "source": [
    "from keras.preprocessing.image import ImageDataGenerator\n",
    "from keras.preprocessing import image\n",
    "from keras.applications import imagenet_utils\n",
    "from keras.applications import vgg16\n",
    "from tensorflow.keras.optimizers import Adam, SGD\n",
    "from keras.metrics import categorical_crossentropy\n",
    "\n",
    "from keras.layers import Dense, Flatten, Dropout, BatchNormalization\n",
    "from keras.models import Model\n",
    "\n",
    "from sklearn.metrics import confusion_matrix\n",
    "import itertools\n",
    "import matplotlib.pyplot as plt\n",
    "%matplotlib inline\n",
    "train_path  = 'C:/Users/subeh/OneDrive/Desktop/deep_learning_for_vision_systems/chapter_06/sign_language_project/dataset/train'\n",
    "valid_path  = 'C:/Users/subeh/OneDrive/Desktop/deep_learning_for_vision_systems/chapter_06/sign_language_project/dataset/valid'\n",
    "test_path  = 'C:/Users/subeh/OneDrive/Desktop/deep_learning_for_vision_systems/chapter_06/sign_language_project/dataset/test'\n",
    "# ImageDataGenerator generates batches of tensor image data with real-time data augmentation. \n",
    "# The data will be looped over (in batches).\n",
    "# in this example, we won't be doing any image augmentation\n",
    "train_batches = ImageDataGenerator().flow_from_directory(train_path, \n",
    "                                                         target_size=(224,224), \n",
    "                                                         batch_size=10)\n",
    "\n",
    "valid_batches = ImageDataGenerator().flow_from_directory(valid_path,\n",
    "                                                         target_size=(224,224), \n",
    "                                                         batch_size=30)\n",
    "\n",
    "test_batches = ImageDataGenerator().flow_from_directory(test_path, \n",
    "                                                        target_size=(224,224), \n",
    "                                                        batch_size=50, \n",
    "                                                        shuffle=False)\n",
    "base_model = vgg16.VGG16(weights = \"imagenet\", include_top=False, input_shape = (224,224, 3), pooling='avg')\n",
    "base_model.summary()"
   ]
  },
  {
   "cell_type": "code",
   "execution_count": 67,
   "id": "85562020",
   "metadata": {},
   "outputs": [
    {
     "name": "stdout",
     "output_type": "stream",
     "text": [
      "Epoch 1/20\n"
     ]
    },
    {
     "name": "stderr",
     "output_type": "stream",
     "text": [
      "C:\\Users\\subeh\\AppData\\Local\\Temp\\ipykernel_15096\\1245896272.py:18: UserWarning: `Model.fit_generator` is deprecated and will be removed in a future version. Please use `Model.fit`, which supports generators.\n",
      "  history = new_model.fit_generator(train_batches, steps_per_epoch=18,\n"
     ]
    },
    {
     "name": "stdout",
     "output_type": "stream",
     "text": [
      "18/18 [==============================] - 65s 4s/step - loss: 3.9831 - accuracy: 0.1278 - val_loss: 2.2380 - val_accuracy: 0.0778\n",
      "Epoch 2/20\n",
      "18/18 [==============================] - 66s 4s/step - loss: 2.2321 - accuracy: 0.2000 - val_loss: 2.0005 - val_accuracy: 0.3556\n",
      "Epoch 3/20\n",
      "18/18 [==============================] - 68s 4s/step - loss: 2.0043 - accuracy: 0.2722 - val_loss: 1.7777 - val_accuracy: 0.3333\n",
      "Epoch 4/20\n",
      "18/18 [==============================] - 66s 4s/step - loss: 1.6832 - accuracy: 0.3556 - val_loss: 1.2993 - val_accuracy: 0.5333\n",
      "Epoch 5/20\n",
      "18/18 [==============================] - 65s 4s/step - loss: 1.2823 - accuracy: 0.5500 - val_loss: 1.1083 - val_accuracy: 0.5444\n",
      "Epoch 6/20\n",
      "18/18 [==============================] - 64s 4s/step - loss: 1.1375 - accuracy: 0.5407 - val_loss: 0.9089 - val_accuracy: 0.7000\n",
      "Epoch 7/20\n",
      "18/18 [==============================] - 63s 4s/step - loss: 0.7924 - accuracy: 0.6944 - val_loss: 0.8806 - val_accuracy: 0.6444\n",
      "Epoch 8/20\n",
      "18/18 [==============================] - 65s 4s/step - loss: 0.8280 - accuracy: 0.7035 - val_loss: 0.6790 - val_accuracy: 0.7778\n",
      "Epoch 9/20\n",
      "18/18 [==============================] - 63s 4s/step - loss: 0.7198 - accuracy: 0.7500 - val_loss: 0.5269 - val_accuracy: 0.7778\n",
      "Epoch 10/20\n",
      "18/18 [==============================] - 65s 4s/step - loss: 0.5027 - accuracy: 0.8556 - val_loss: 0.3456 - val_accuracy: 0.8667\n",
      "Epoch 11/20\n",
      "18/18 [==============================] - 62s 3s/step - loss: 0.1999 - accuracy: 0.9500 - val_loss: 0.2595 - val_accuracy: 0.9111\n",
      "Epoch 12/20\n",
      "18/18 [==============================] - 62s 3s/step - loss: 0.2407 - accuracy: 0.9333 - val_loss: 0.2699 - val_accuracy: 0.9000\n",
      "Epoch 13/20\n",
      "18/18 [==============================] - 63s 4s/step - loss: 0.0977 - accuracy: 0.9833 - val_loss: 0.1229 - val_accuracy: 0.9778\n",
      "Epoch 14/20\n",
      "18/18 [==============================] - 61s 3s/step - loss: 0.1423 - accuracy: 0.9500 - val_loss: 0.1192 - val_accuracy: 0.9556\n",
      "Epoch 15/20\n",
      "18/18 [==============================] - 62s 3s/step - loss: 0.1600 - accuracy: 0.9500 - val_loss: 0.2399 - val_accuracy: 0.9556\n",
      "Epoch 16/20\n",
      "18/18 [==============================] - 62s 3s/step - loss: 0.0844 - accuracy: 0.9778 - val_loss: 0.0820 - val_accuracy: 0.9667\n",
      "Epoch 17/20\n",
      "18/18 [==============================] - 62s 3s/step - loss: 0.0724 - accuracy: 0.9889 - val_loss: 0.2120 - val_accuracy: 0.9889\n",
      "Epoch 18/20\n",
      "18/18 [==============================] - 64s 4s/step - loss: 0.3037 - accuracy: 0.9278 - val_loss: 1.3565 - val_accuracy: 0.6556\n",
      "Epoch 19/20\n",
      "18/18 [==============================] - 61s 3s/step - loss: 0.4621 - accuracy: 0.8889 - val_loss: 0.3433 - val_accuracy: 0.9000\n",
      "Epoch 20/20\n",
      "18/18 [==============================] - 62s 4s/step - loss: 0.1047 - accuracy: 0.9667 - val_loss: 0.3340 - val_accuracy: 0.9111\n",
      "Training time: 1288.930 seconds\n",
      "Training time in minutes: 21.482 minutes\n"
     ]
    }
   ],
   "source": [
    "# iterate through its layers and lock them to make them not trainable with this code\n",
    "for layer in base_model.layers[:-7]:\n",
    "    layer.trainable = False\n",
    "last_layer = base_model.get_layer('global_average_pooling2d_6')\n",
    "\n",
    "last_output = last_layer.output\n",
    "\n",
    "x = Dense(10, activation='softmax', name='softmax')(last_output)\n",
    "\n",
    "new_model = Model(inputs=base_model.input, outputs=x)\n",
    "new_model.compile(Adam(learning_rate=0.0001), loss='categorical_crossentropy', metrics=['accuracy'])\n",
    "import time\n",
    "start_time = time.time()\n",
    "from keras.callbacks import ModelCheckpoint\n",
    "\n",
    "checkpointer = ModelCheckpoint(filepath='signlanguage.model.hdf5', save_best_only=True)\n",
    "\n",
    "history = new_model.fit_generator(train_batches, steps_per_epoch=18,\n",
    "                   validation_data=valid_batches, validation_steps=3, epochs=20, verbose=1, callbacks=[checkpointer])\n",
    "end_time = time.time()\n",
    "train_time_in_minutes = (end_time - start_time) / 60.0\n",
    "train_time = end_time - start_time\n",
    "print(f\"Training time: {train_time:.3f} seconds\")\n",
    "print(f\"Training time in minutes: {train_time_in_minutes:.3f} minutes\")"
   ]
  },
  {
   "cell_type": "code",
   "execution_count": 68,
   "id": "de150340",
   "metadata": {},
   "outputs": [
    {
     "name": "stderr",
     "output_type": "stream",
     "text": [
      "100%|█████████████████████████████████████████████████████████████████████████████████| 50/50 [00:00<00:00, 753.70it/s]\n",
      "100%|███████████████████████████████████████████████████████████████████████████████| 300/300 [00:00<00:00, 629.52it/s]\n"
     ]
    },
    {
     "name": "stdout",
     "output_type": "stream",
     "text": [
      "10/10 [==============================] - 55s 5s/step - loss: 0.5693 - accuracy: 0.7800\n",
      "\n",
      "val loss: 0.5693\n",
      "val accuracy: 0.7800\n",
      "2/2 [==============================] - 9s 3s/step - loss: 0.6280 - accuracy: 0.7400\n",
      "\n",
      "Testing loss: 0.6280\n",
      "Testing accuracy: 0.7400\n"
     ]
    }
   ],
   "source": [
    "def load_dataset(path):\n",
    "    data = load_files(path)\n",
    "    paths = np.array(data['filenames'])\n",
    "    targets = np_utils.to_categorical(np.array(data['target']))\n",
    "    return paths, targets\n",
    "from sklearn.datasets import load_files\n",
    "from keras.utils import np_utils\n",
    "import numpy as np\n",
    "\n",
    "test_files, test_targets = load_dataset('C:/Users/subeh/OneDrive/Desktop/deep_learning_for_vision_systems/chapter_06/sign_language_project/dataset/test')\n",
    "valid_files, valid_targets = load_dataset('C:/Users/subeh/OneDrive/Desktop/deep_learning_for_vision_systems/chapter_06/sign_language_project/dataset/valid')\n",
    "\n",
    "from keras.preprocessing import image  \n",
    "from keras.applications.vgg16 import preprocess_input\n",
    "from tensorflow.keras.preprocessing import image #wrire this to solve the error 'image.load_img'\n",
    "from tqdm import tqdm\n",
    "\n",
    "def path_to_tensor(img_path):\n",
    "    # loads RGB image as PIL.Image.Image type\n",
    "    img = image.load_img(img_path, target_size=(224, 224))\n",
    "    # convert PIL.Image.Image type to 3D tensor with shape (224, 224, 3)\n",
    "    x = image.img_to_array(img)\n",
    "    # convert 3D tensor to 4D tensor with shape (1, 224, 224, 3) and return 4D tensor\n",
    "    return np.expand_dims(x, axis=0)\n",
    "\n",
    "def paths_to_tensor(img_paths):\n",
    "    list_of_tensors = [path_to_tensor(img_path) for img_path in tqdm(img_paths)]\n",
    "    return np.vstack(list_of_tensors)\n",
    "\n",
    "test_tensors = preprocess_input(paths_to_tensor(test_files))\n",
    "val_tensors = preprocess_input(paths_to_tensor(valid_files))\n",
    "\n",
    "new_model.load_weights('signlanguage.model.hdf5')\n",
    "print('\\nval loss: {:.4f}\\nval accuracy: {:.4f}'.format(*new_model.evaluate(val_tensors, valid_targets)))\n",
    "print('\\nTesting loss: {:.4f}\\nTesting accuracy: {:.4f}'.format(*new_model.evaluate(test_tensors, test_targets)))"
   ]
  },
  {
   "cell_type": "code",
   "execution_count": null,
   "id": "a726dec3",
   "metadata": {},
   "outputs": [],
   "source": [
    "%reset"
   ]
  },
  {
   "cell_type": "code",
   "execution_count": null,
   "id": "d0e03f01",
   "metadata": {},
   "outputs": [],
   "source": [
    "#-6"
   ]
  },
  {
   "cell_type": "code",
   "execution_count": 69,
   "id": "573435b3",
   "metadata": {},
   "outputs": [
    {
     "name": "stdout",
     "output_type": "stream",
     "text": [
      "Found 1712 images belonging to 10 classes.\n",
      "Found 300 images belonging to 10 classes.\n",
      "Found 50 images belonging to 10 classes.\n",
      "Model: \"vgg16\"\n",
      "_________________________________________________________________\n",
      " Layer (type)                Output Shape              Param #   \n",
      "=================================================================\n",
      " input_8 (InputLayer)        [(None, 224, 224, 3)]     0         \n",
      "                                                                 \n",
      " block1_conv1 (Conv2D)       (None, 224, 224, 64)      1792      \n",
      "                                                                 \n",
      " block1_conv2 (Conv2D)       (None, 224, 224, 64)      36928     \n",
      "                                                                 \n",
      " block1_pool (MaxPooling2D)  (None, 112, 112, 64)      0         \n",
      "                                                                 \n",
      " block2_conv1 (Conv2D)       (None, 112, 112, 128)     73856     \n",
      "                                                                 \n",
      " block2_conv2 (Conv2D)       (None, 112, 112, 128)     147584    \n",
      "                                                                 \n",
      " block2_pool (MaxPooling2D)  (None, 56, 56, 128)       0         \n",
      "                                                                 \n",
      " block3_conv1 (Conv2D)       (None, 56, 56, 256)       295168    \n",
      "                                                                 \n",
      " block3_conv2 (Conv2D)       (None, 56, 56, 256)       590080    \n",
      "                                                                 \n",
      " block3_conv3 (Conv2D)       (None, 56, 56, 256)       590080    \n",
      "                                                                 \n",
      " block3_pool (MaxPooling2D)  (None, 28, 28, 256)       0         \n",
      "                                                                 \n",
      " block4_conv1 (Conv2D)       (None, 28, 28, 512)       1180160   \n",
      "                                                                 \n",
      " block4_conv2 (Conv2D)       (None, 28, 28, 512)       2359808   \n",
      "                                                                 \n",
      " block4_conv3 (Conv2D)       (None, 28, 28, 512)       2359808   \n",
      "                                                                 \n",
      " block4_pool (MaxPooling2D)  (None, 14, 14, 512)       0         \n",
      "                                                                 \n",
      " block5_conv1 (Conv2D)       (None, 14, 14, 512)       2359808   \n",
      "                                                                 \n",
      " block5_conv2 (Conv2D)       (None, 14, 14, 512)       2359808   \n",
      "                                                                 \n",
      " block5_conv3 (Conv2D)       (None, 14, 14, 512)       2359808   \n",
      "                                                                 \n",
      " block5_pool (MaxPooling2D)  (None, 7, 7, 512)         0         \n",
      "                                                                 \n",
      " global_average_pooling2d_7   (None, 512)              0         \n",
      " (GlobalAveragePooling2D)                                        \n",
      "                                                                 \n",
      "=================================================================\n",
      "Total params: 14,714,688\n",
      "Trainable params: 14,714,688\n",
      "Non-trainable params: 0\n",
      "_________________________________________________________________\n"
     ]
    }
   ],
   "source": [
    "from keras.preprocessing.image import ImageDataGenerator\n",
    "from keras.preprocessing import image\n",
    "from keras.applications import imagenet_utils\n",
    "from keras.applications import vgg16\n",
    "from tensorflow.keras.optimizers import Adam, SGD\n",
    "from keras.metrics import categorical_crossentropy\n",
    "\n",
    "from keras.layers import Dense, Flatten, Dropout, BatchNormalization\n",
    "from keras.models import Model\n",
    "\n",
    "from sklearn.metrics import confusion_matrix\n",
    "import itertools\n",
    "import matplotlib.pyplot as plt\n",
    "%matplotlib inline\n",
    "train_path  = 'C:/Users/subeh/OneDrive/Desktop/deep_learning_for_vision_systems/chapter_06/sign_language_project/dataset/train'\n",
    "valid_path  = 'C:/Users/subeh/OneDrive/Desktop/deep_learning_for_vision_systems/chapter_06/sign_language_project/dataset/valid'\n",
    "test_path  = 'C:/Users/subeh/OneDrive/Desktop/deep_learning_for_vision_systems/chapter_06/sign_language_project/dataset/test'\n",
    "# ImageDataGenerator generates batches of tensor image data with real-time data augmentation. \n",
    "# The data will be looped over (in batches).\n",
    "# in this example, we won't be doing any image augmentation\n",
    "train_batches = ImageDataGenerator().flow_from_directory(train_path, \n",
    "                                                         target_size=(224,224), \n",
    "                                                         batch_size=10)\n",
    "\n",
    "valid_batches = ImageDataGenerator().flow_from_directory(valid_path,\n",
    "                                                         target_size=(224,224), \n",
    "                                                         batch_size=30)\n",
    "\n",
    "test_batches = ImageDataGenerator().flow_from_directory(test_path, \n",
    "                                                        target_size=(224,224), \n",
    "                                                        batch_size=50, \n",
    "                                                        shuffle=False)\n",
    "base_model = vgg16.VGG16(weights = \"imagenet\", include_top=False, input_shape = (224,224, 3), pooling='avg')\n",
    "base_model.summary()"
   ]
  },
  {
   "cell_type": "code",
   "execution_count": 71,
   "id": "ad3d5709",
   "metadata": {},
   "outputs": [
    {
     "name": "stdout",
     "output_type": "stream",
     "text": [
      "Epoch 1/20\n"
     ]
    },
    {
     "name": "stderr",
     "output_type": "stream",
     "text": [
      "C:\\Users\\subeh\\AppData\\Local\\Temp\\ipykernel_15096\\340087587.py:18: UserWarning: `Model.fit_generator` is deprecated and will be removed in a future version. Please use `Model.fit`, which supports generators.\n",
      "  history = new_model.fit_generator(train_batches, steps_per_epoch=18,\n"
     ]
    },
    {
     "name": "stdout",
     "output_type": "stream",
     "text": [
      "18/18 [==============================] - 56s 3s/step - loss: 3.6944 - accuracy: 0.2111 - val_loss: 2.1668 - val_accuracy: 0.2667\n",
      "Epoch 2/20\n",
      "18/18 [==============================] - 57s 3s/step - loss: 1.9889 - accuracy: 0.3000 - val_loss: 1.7775 - val_accuracy: 0.3444\n",
      "Epoch 3/20\n",
      "18/18 [==============================] - 60s 3s/step - loss: 1.4162 - accuracy: 0.4944 - val_loss: 1.2715 - val_accuracy: 0.5000\n",
      "Epoch 4/20\n",
      "18/18 [==============================] - 53s 3s/step - loss: 0.9681 - accuracy: 0.7167 - val_loss: 0.5757 - val_accuracy: 0.7667\n",
      "Epoch 5/20\n",
      "18/18 [==============================] - 61s 3s/step - loss: 0.5353 - accuracy: 0.8000 - val_loss: 0.3329 - val_accuracy: 0.9111\n",
      "Epoch 6/20\n",
      "18/18 [==============================] - 61s 3s/step - loss: 0.2538 - accuracy: 0.9278 - val_loss: 0.3456 - val_accuracy: 0.9000\n",
      "Epoch 7/20\n",
      "18/18 [==============================] - 54s 3s/step - loss: 0.2873 - accuracy: 0.9070 - val_loss: 0.3366 - val_accuracy: 0.9111\n",
      "Epoch 8/20\n",
      "18/18 [==============================] - 56s 3s/step - loss: 0.2655 - accuracy: 0.9111 - val_loss: 0.3898 - val_accuracy: 0.8556\n",
      "Epoch 9/20\n",
      "18/18 [==============================] - 57s 3s/step - loss: 0.1378 - accuracy: 0.9556 - val_loss: 0.5073 - val_accuracy: 0.8222\n",
      "Epoch 10/20\n",
      "18/18 [==============================] - 57s 3s/step - loss: 0.1759 - accuracy: 0.9444 - val_loss: 0.1999 - val_accuracy: 0.9444\n",
      "Epoch 11/20\n",
      "18/18 [==============================] - 56s 3s/step - loss: 0.0803 - accuracy: 0.9889 - val_loss: 0.1223 - val_accuracy: 0.9556\n",
      "Epoch 12/20\n",
      "18/18 [==============================] - 57s 3s/step - loss: 0.0669 - accuracy: 0.9667 - val_loss: 0.2437 - val_accuracy: 0.9333\n",
      "Epoch 13/20\n",
      "18/18 [==============================] - 56s 3s/step - loss: 0.1233 - accuracy: 0.9611 - val_loss: 0.2284 - val_accuracy: 0.9333\n",
      "Epoch 14/20\n",
      "18/18 [==============================] - 55s 3s/step - loss: 0.0924 - accuracy: 0.9833 - val_loss: 0.3053 - val_accuracy: 0.9000\n",
      "Epoch 15/20\n",
      "18/18 [==============================] - 56s 3s/step - loss: 0.0721 - accuracy: 0.9722 - val_loss: 0.0487 - val_accuracy: 0.9889\n",
      "Epoch 16/20\n",
      "18/18 [==============================] - 55s 3s/step - loss: 0.0197 - accuracy: 1.0000 - val_loss: 0.1174 - val_accuracy: 0.9444\n",
      "Epoch 17/20\n",
      "18/18 [==============================] - 54s 3s/step - loss: 0.0143 - accuracy: 0.9942 - val_loss: 0.0223 - val_accuracy: 0.9889\n",
      "Epoch 18/20\n",
      "18/18 [==============================] - 57s 3s/step - loss: 0.0079 - accuracy: 1.0000 - val_loss: 0.1743 - val_accuracy: 0.9778\n",
      "Epoch 19/20\n",
      "18/18 [==============================] - 55s 3s/step - loss: 0.0140 - accuracy: 0.9944 - val_loss: 0.1544 - val_accuracy: 0.9889\n",
      "Epoch 20/20\n",
      "18/18 [==============================] - 57s 3s/step - loss: 0.0424 - accuracy: 0.9889 - val_loss: 0.1001 - val_accuracy: 0.9556\n",
      "Training time: 1153.995 seconds\n",
      "Training time in minutes: 19.233 minutes\n"
     ]
    }
   ],
   "source": [
    "# iterate through its layers and lock them to make them not trainable with this code\n",
    "for layer in base_model.layers[:-6]:\n",
    "    layer.trainable = False\n",
    "last_layer = base_model.get_layer('global_average_pooling2d_7')\n",
    "\n",
    "last_output = last_layer.output\n",
    "\n",
    "x = Dense(10, activation='softmax', name='softmax')(last_output)\n",
    "\n",
    "new_model = Model(inputs=base_model.input, outputs=x)\n",
    "new_model.compile(Adam(learning_rate=0.0001), loss='categorical_crossentropy', metrics=['accuracy'])\n",
    "import time\n",
    "start_time = time.time()\n",
    "from keras.callbacks import ModelCheckpoint\n",
    "\n",
    "checkpointer = ModelCheckpoint(filepath='signlanguage.model.hdf5', save_best_only=True)\n",
    "\n",
    "history = new_model.fit_generator(train_batches, steps_per_epoch=18,\n",
    "                   validation_data=valid_batches, validation_steps=3, epochs=20, verbose=1, callbacks=[checkpointer])\n",
    "end_time = time.time()\n",
    "train_time_in_minutes = (end_time - start_time) / 60.0\n",
    "train_time = end_time - start_time\n",
    "print(f\"Training time: {train_time:.3f} seconds\")\n",
    "print(f\"Training time in minutes: {train_time_in_minutes:.3f} minutes\")"
   ]
  },
  {
   "cell_type": "code",
   "execution_count": 72,
   "id": "b1283204",
   "metadata": {},
   "outputs": [
    {
     "name": "stderr",
     "output_type": "stream",
     "text": [
      "100%|█████████████████████████████████████████████████████████████████████████████████| 50/50 [00:00<00:00, 757.25it/s]\n",
      "100%|███████████████████████████████████████████████████████████████████████████████| 300/300 [00:00<00:00, 617.84it/s]\n"
     ]
    },
    {
     "name": "stdout",
     "output_type": "stream",
     "text": [
      "10/10 [==============================] - 53s 5s/step - loss: 0.2718 - accuracy: 0.9267\n",
      "\n",
      "val loss: 0.2718\n",
      "val accuracy: 0.9267\n",
      "2/2 [==============================] - 9s 3s/step - loss: 0.2331 - accuracy: 0.9600\n",
      "\n",
      "Testing loss: 0.2331\n",
      "Testing accuracy: 0.9600\n"
     ]
    }
   ],
   "source": [
    "def load_dataset(path):\n",
    "    data = load_files(path)\n",
    "    paths = np.array(data['filenames'])\n",
    "    targets = np_utils.to_categorical(np.array(data['target']))\n",
    "    return paths, targets\n",
    "from sklearn.datasets import load_files\n",
    "from keras.utils import np_utils\n",
    "import numpy as np\n",
    "\n",
    "test_files, test_targets = load_dataset('C:/Users/subeh/OneDrive/Desktop/deep_learning_for_vision_systems/chapter_06/sign_language_project/dataset/test')\n",
    "valid_files, valid_targets = load_dataset('C:/Users/subeh/OneDrive/Desktop/deep_learning_for_vision_systems/chapter_06/sign_language_project/dataset/valid')\n",
    "\n",
    "from keras.preprocessing import image  \n",
    "from keras.applications.vgg16 import preprocess_input\n",
    "from tensorflow.keras.preprocessing import image #wrire this to solve the error 'image.load_img'\n",
    "from tqdm import tqdm\n",
    "\n",
    "def path_to_tensor(img_path):\n",
    "    # loads RGB image as PIL.Image.Image type\n",
    "    img = image.load_img(img_path, target_size=(224, 224))\n",
    "    # convert PIL.Image.Image type to 3D tensor with shape (224, 224, 3)\n",
    "    x = image.img_to_array(img)\n",
    "    # convert 3D tensor to 4D tensor with shape (1, 224, 224, 3) and return 4D tensor\n",
    "    return np.expand_dims(x, axis=0)\n",
    "\n",
    "def paths_to_tensor(img_paths):\n",
    "    list_of_tensors = [path_to_tensor(img_path) for img_path in tqdm(img_paths)]\n",
    "    return np.vstack(list_of_tensors)\n",
    "\n",
    "test_tensors = preprocess_input(paths_to_tensor(test_files))\n",
    "val_tensors = preprocess_input(paths_to_tensor(valid_files))\n",
    "\n",
    "new_model.load_weights('signlanguage.model.hdf5')\n",
    "print('\\nval loss: {:.4f}\\nval accuracy: {:.4f}'.format(*new_model.evaluate(val_tensors, valid_targets)))\n",
    "print('\\nTesting loss: {:.4f}\\nTesting accuracy: {:.4f}'.format(*new_model.evaluate(test_tensors, test_targets)))"
   ]
  },
  {
   "cell_type": "code",
   "execution_count": 73,
   "id": "41fa4a7e",
   "metadata": {},
   "outputs": [
    {
     "name": "stdout",
     "output_type": "stream",
     "text": [
      "Once deleted, variables cannot be recovered. Proceed (y/[n])? y\n"
     ]
    }
   ],
   "source": [
    "%reset"
   ]
  },
  {
   "cell_type": "code",
   "execution_count": null,
   "id": "a6aa453b",
   "metadata": {},
   "outputs": [],
   "source": [
    "#-5"
   ]
  },
  {
   "cell_type": "code",
   "execution_count": 74,
   "id": "a7635056",
   "metadata": {},
   "outputs": [
    {
     "name": "stdout",
     "output_type": "stream",
     "text": [
      "Found 1712 images belonging to 10 classes.\n",
      "Found 300 images belonging to 10 classes.\n",
      "Found 50 images belonging to 10 classes.\n",
      "Model: \"vgg16\"\n",
      "_________________________________________________________________\n",
      " Layer (type)                Output Shape              Param #   \n",
      "=================================================================\n",
      " input_9 (InputLayer)        [(None, 224, 224, 3)]     0         \n",
      "                                                                 \n",
      " block1_conv1 (Conv2D)       (None, 224, 224, 64)      1792      \n",
      "                                                                 \n",
      " block1_conv2 (Conv2D)       (None, 224, 224, 64)      36928     \n",
      "                                                                 \n",
      " block1_pool (MaxPooling2D)  (None, 112, 112, 64)      0         \n",
      "                                                                 \n",
      " block2_conv1 (Conv2D)       (None, 112, 112, 128)     73856     \n",
      "                                                                 \n",
      " block2_conv2 (Conv2D)       (None, 112, 112, 128)     147584    \n",
      "                                                                 \n",
      " block2_pool (MaxPooling2D)  (None, 56, 56, 128)       0         \n",
      "                                                                 \n",
      " block3_conv1 (Conv2D)       (None, 56, 56, 256)       295168    \n",
      "                                                                 \n",
      " block3_conv2 (Conv2D)       (None, 56, 56, 256)       590080    \n",
      "                                                                 \n",
      " block3_conv3 (Conv2D)       (None, 56, 56, 256)       590080    \n",
      "                                                                 \n",
      " block3_pool (MaxPooling2D)  (None, 28, 28, 256)       0         \n",
      "                                                                 \n",
      " block4_conv1 (Conv2D)       (None, 28, 28, 512)       1180160   \n",
      "                                                                 \n",
      " block4_conv2 (Conv2D)       (None, 28, 28, 512)       2359808   \n",
      "                                                                 \n",
      " block4_conv3 (Conv2D)       (None, 28, 28, 512)       2359808   \n",
      "                                                                 \n",
      " block4_pool (MaxPooling2D)  (None, 14, 14, 512)       0         \n",
      "                                                                 \n",
      " block5_conv1 (Conv2D)       (None, 14, 14, 512)       2359808   \n",
      "                                                                 \n",
      " block5_conv2 (Conv2D)       (None, 14, 14, 512)       2359808   \n",
      "                                                                 \n",
      " block5_conv3 (Conv2D)       (None, 14, 14, 512)       2359808   \n",
      "                                                                 \n",
      " block5_pool (MaxPooling2D)  (None, 7, 7, 512)         0         \n",
      "                                                                 \n",
      " global_average_pooling2d_8   (None, 512)              0         \n",
      " (GlobalAveragePooling2D)                                        \n",
      "                                                                 \n",
      "=================================================================\n",
      "Total params: 14,714,688\n",
      "Trainable params: 14,714,688\n",
      "Non-trainable params: 0\n",
      "_________________________________________________________________\n"
     ]
    }
   ],
   "source": [
    "from keras.preprocessing.image import ImageDataGenerator\n",
    "from keras.preprocessing import image\n",
    "from keras.applications import imagenet_utils\n",
    "from keras.applications import vgg16\n",
    "from tensorflow.keras.optimizers import Adam, SGD\n",
    "from keras.metrics import categorical_crossentropy\n",
    "\n",
    "from keras.layers import Dense, Flatten, Dropout, BatchNormalization\n",
    "from keras.models import Model\n",
    "\n",
    "from sklearn.metrics import confusion_matrix\n",
    "import itertools\n",
    "import matplotlib.pyplot as plt\n",
    "%matplotlib inline\n",
    "train_path  = 'C:/Users/subeh/OneDrive/Desktop/deep_learning_for_vision_systems/chapter_06/sign_language_project/dataset/train'\n",
    "valid_path  = 'C:/Users/subeh/OneDrive/Desktop/deep_learning_for_vision_systems/chapter_06/sign_language_project/dataset/valid'\n",
    "test_path  = 'C:/Users/subeh/OneDrive/Desktop/deep_learning_for_vision_systems/chapter_06/sign_language_project/dataset/test'\n",
    "# ImageDataGenerator generates batches of tensor image data with real-time data augmentation. \n",
    "# The data will be looped over (in batches).\n",
    "# in this example, we won't be doing any image augmentation\n",
    "train_batches = ImageDataGenerator().flow_from_directory(train_path, \n",
    "                                                         target_size=(224,224), \n",
    "                                                         batch_size=10)\n",
    "\n",
    "valid_batches = ImageDataGenerator().flow_from_directory(valid_path,\n",
    "                                                         target_size=(224,224), \n",
    "                                                         batch_size=30)\n",
    "\n",
    "test_batches = ImageDataGenerator().flow_from_directory(test_path, \n",
    "                                                        target_size=(224,224), \n",
    "                                                        batch_size=50, \n",
    "                                                        shuffle=False)\n",
    "base_model = vgg16.VGG16(weights = \"imagenet\", include_top=False, input_shape = (224,224, 3), pooling='avg')\n",
    "base_model.summary()"
   ]
  },
  {
   "cell_type": "code",
   "execution_count": 75,
   "id": "9cf591f5",
   "metadata": {},
   "outputs": [
    {
     "name": "stdout",
     "output_type": "stream",
     "text": [
      "Epoch 1/20\n"
     ]
    },
    {
     "name": "stderr",
     "output_type": "stream",
     "text": [
      "C:\\Users\\subeh\\AppData\\Local\\Temp\\ipykernel_15096\\3823079013.py:18: UserWarning: `Model.fit_generator` is deprecated and will be removed in a future version. Please use `Model.fit`, which supports generators.\n",
      "  history = new_model.fit_generator(train_batches, steps_per_epoch=18,\n"
     ]
    },
    {
     "name": "stdout",
     "output_type": "stream",
     "text": [
      "18/18 [==============================] - 55s 3s/step - loss: 3.5744 - accuracy: 0.1500 - val_loss: 2.0127 - val_accuracy: 0.2556\n",
      "Epoch 2/20\n",
      "18/18 [==============================] - 54s 3s/step - loss: 1.7277 - accuracy: 0.3605 - val_loss: 1.6559 - val_accuracy: 0.4000\n",
      "Epoch 3/20\n",
      "18/18 [==============================] - 56s 3s/step - loss: 1.2374 - accuracy: 0.5722 - val_loss: 1.1547 - val_accuracy: 0.5667\n",
      "Epoch 4/20\n",
      "18/18 [==============================] - 52s 3s/step - loss: 0.8160 - accuracy: 0.6722 - val_loss: 0.5609 - val_accuracy: 0.8556\n",
      "Epoch 5/20\n",
      "18/18 [==============================] - 56s 3s/step - loss: 0.4655 - accuracy: 0.8278 - val_loss: 0.3344 - val_accuracy: 0.9000\n",
      "Epoch 6/20\n",
      "18/18 [==============================] - 56s 3s/step - loss: 0.2655 - accuracy: 0.9111 - val_loss: 0.2051 - val_accuracy: 0.9222\n",
      "Epoch 7/20\n",
      "18/18 [==============================] - 58s 3s/step - loss: 0.2778 - accuracy: 0.9500 - val_loss: 0.1553 - val_accuracy: 0.9444\n",
      "Epoch 8/20\n",
      "18/18 [==============================] - 56s 3s/step - loss: 0.1387 - accuracy: 0.9556 - val_loss: 0.2797 - val_accuracy: 0.9111\n",
      "Epoch 9/20\n",
      "18/18 [==============================] - 56s 3s/step - loss: 0.1499 - accuracy: 0.9389 - val_loss: 0.1822 - val_accuracy: 0.9556\n",
      "Epoch 10/20\n",
      "18/18 [==============================] - 54s 3s/step - loss: 0.2928 - accuracy: 0.9012 - val_loss: 0.2513 - val_accuracy: 0.8889\n",
      "Epoch 11/20\n",
      "18/18 [==============================] - 57s 3s/step - loss: 0.1383 - accuracy: 0.9667 - val_loss: 0.1113 - val_accuracy: 0.9667\n",
      "Epoch 12/20\n",
      "18/18 [==============================] - 59s 3s/step - loss: 0.1114 - accuracy: 0.9667 - val_loss: 0.1853 - val_accuracy: 0.9444\n",
      "Epoch 13/20\n",
      "18/18 [==============================] - 56s 3s/step - loss: 0.1307 - accuracy: 0.9667 - val_loss: 0.1557 - val_accuracy: 0.9778\n",
      "Epoch 14/20\n",
      "18/18 [==============================] - 57s 3s/step - loss: 0.0613 - accuracy: 0.9833 - val_loss: 0.1774 - val_accuracy: 0.9667\n",
      "Epoch 15/20\n",
      "18/18 [==============================] - 56s 3s/step - loss: 0.0509 - accuracy: 0.9833 - val_loss: 0.1991 - val_accuracy: 0.9778\n",
      "Epoch 16/20\n",
      "18/18 [==============================] - 55s 3s/step - loss: 0.0394 - accuracy: 0.9884 - val_loss: 0.1586 - val_accuracy: 0.9889\n",
      "Epoch 17/20\n",
      "18/18 [==============================] - 57s 3s/step - loss: 0.0120 - accuracy: 1.0000 - val_loss: 0.1734 - val_accuracy: 0.9778\n",
      "Epoch 18/20\n",
      "18/18 [==============================] - 59s 3s/step - loss: 0.0240 - accuracy: 0.9944 - val_loss: 0.2384 - val_accuracy: 0.9556\n",
      "Epoch 19/20\n",
      "18/18 [==============================] - 60s 3s/step - loss: 0.0614 - accuracy: 0.9833 - val_loss: 0.2534 - val_accuracy: 0.9556\n",
      "Epoch 20/20\n",
      "18/18 [==============================] - 55s 3s/step - loss: 0.0094 - accuracy: 1.0000 - val_loss: 0.2724 - val_accuracy: 0.9222\n",
      "Training time: 1148.776 seconds\n",
      "Training time in minutes: 19.146 minutes\n"
     ]
    }
   ],
   "source": [
    "# iterate through its layers and lock them to make them not trainable with this code\n",
    "for layer in base_model.layers[:-5]:\n",
    "    layer.trainable = False\n",
    "last_layer = base_model.get_layer('global_average_pooling2d_8')\n",
    "\n",
    "last_output = last_layer.output\n",
    "\n",
    "x = Dense(10, activation='softmax', name='softmax')(last_output)\n",
    "\n",
    "new_model = Model(inputs=base_model.input, outputs=x)\n",
    "new_model.compile(Adam(learning_rate=0.0001), loss='categorical_crossentropy', metrics=['accuracy'])\n",
    "import time\n",
    "start_time = time.time()\n",
    "from keras.callbacks import ModelCheckpoint\n",
    "\n",
    "checkpointer = ModelCheckpoint(filepath='signlanguage.model.hdf5', save_best_only=True)\n",
    "\n",
    "history = new_model.fit_generator(train_batches, steps_per_epoch=18,\n",
    "                   validation_data=valid_batches, validation_steps=3, epochs=20, verbose=1, callbacks=[checkpointer])\n",
    "end_time = time.time()\n",
    "train_time_in_minutes = (end_time - start_time) / 60.0\n",
    "train_time = end_time - start_time\n",
    "print(f\"Training time: {train_time:.3f} seconds\")\n",
    "print(f\"Training time in minutes: {train_time_in_minutes:.3f} minutes\")"
   ]
  },
  {
   "cell_type": "code",
   "execution_count": 76,
   "id": "77422c78",
   "metadata": {},
   "outputs": [
    {
     "name": "stderr",
     "output_type": "stream",
     "text": [
      "100%|█████████████████████████████████████████████████████████████████████████████████| 50/50 [00:00<00:00, 607.46it/s]\n",
      "100%|███████████████████████████████████████████████████████████████████████████████| 300/300 [00:00<00:00, 628.05it/s]\n"
     ]
    },
    {
     "name": "stdout",
     "output_type": "stream",
     "text": [
      "10/10 [==============================] - 56s 6s/step - loss: 0.2651 - accuracy: 0.9300\n",
      "\n",
      "val loss: 0.2651\n",
      "val accuracy: 0.9300\n",
      "2/2 [==============================] - 9s 3s/step - loss: 0.1679 - accuracy: 0.9600\n",
      "\n",
      "Testing loss: 0.1679\n",
      "Testing accuracy: 0.9600\n"
     ]
    }
   ],
   "source": [
    "def load_dataset(path):\n",
    "    data = load_files(path)\n",
    "    paths = np.array(data['filenames'])\n",
    "    targets = np_utils.to_categorical(np.array(data['target']))\n",
    "    return paths, targets\n",
    "from sklearn.datasets import load_files\n",
    "from keras.utils import np_utils\n",
    "import numpy as np\n",
    "\n",
    "test_files, test_targets = load_dataset('C:/Users/subeh/OneDrive/Desktop/deep_learning_for_vision_systems/chapter_06/sign_language_project/dataset/test')\n",
    "valid_files, valid_targets = load_dataset('C:/Users/subeh/OneDrive/Desktop/deep_learning_for_vision_systems/chapter_06/sign_language_project/dataset/valid')\n",
    "\n",
    "from keras.preprocessing import image  \n",
    "from keras.applications.vgg16 import preprocess_input\n",
    "from tensorflow.keras.preprocessing import image #wrire this to solve the error 'image.load_img'\n",
    "from tqdm import tqdm\n",
    "\n",
    "def path_to_tensor(img_path):\n",
    "    # loads RGB image as PIL.Image.Image type\n",
    "    img = image.load_img(img_path, target_size=(224, 224))\n",
    "    # convert PIL.Image.Image type to 3D tensor with shape (224, 224, 3)\n",
    "    x = image.img_to_array(img)\n",
    "    # convert 3D tensor to 4D tensor with shape (1, 224, 224, 3) and return 4D tensor\n",
    "    return np.expand_dims(x, axis=0)\n",
    "\n",
    "def paths_to_tensor(img_paths):\n",
    "    list_of_tensors = [path_to_tensor(img_path) for img_path in tqdm(img_paths)]\n",
    "    return np.vstack(list_of_tensors)\n",
    "\n",
    "test_tensors = preprocess_input(paths_to_tensor(test_files))\n",
    "val_tensors = preprocess_input(paths_to_tensor(valid_files))\n",
    "\n",
    "new_model.load_weights('signlanguage.model.hdf5')\n",
    "print('\\nval loss: {:.4f}\\nval accuracy: {:.4f}'.format(*new_model.evaluate(val_tensors, valid_targets)))\n",
    "print('\\nTesting loss: {:.4f}\\nTesting accuracy: {:.4f}'.format(*new_model.evaluate(test_tensors, test_targets)))"
   ]
  },
  {
   "cell_type": "code",
   "execution_count": null,
   "id": "9f24bafc",
   "metadata": {},
   "outputs": [],
   "source": [
    "%reset"
   ]
  },
  {
   "cell_type": "code",
   "execution_count": null,
   "id": "1eb290ad",
   "metadata": {},
   "outputs": [],
   "source": [
    "#-4"
   ]
  },
  {
   "cell_type": "code",
   "execution_count": 77,
   "id": "5d2c878d",
   "metadata": {},
   "outputs": [
    {
     "name": "stdout",
     "output_type": "stream",
     "text": [
      "Found 1712 images belonging to 10 classes.\n",
      "Found 300 images belonging to 10 classes.\n",
      "Found 50 images belonging to 10 classes.\n",
      "Model: \"vgg16\"\n",
      "_________________________________________________________________\n",
      " Layer (type)                Output Shape              Param #   \n",
      "=================================================================\n",
      " input_10 (InputLayer)       [(None, 224, 224, 3)]     0         \n",
      "                                                                 \n",
      " block1_conv1 (Conv2D)       (None, 224, 224, 64)      1792      \n",
      "                                                                 \n",
      " block1_conv2 (Conv2D)       (None, 224, 224, 64)      36928     \n",
      "                                                                 \n",
      " block1_pool (MaxPooling2D)  (None, 112, 112, 64)      0         \n",
      "                                                                 \n",
      " block2_conv1 (Conv2D)       (None, 112, 112, 128)     73856     \n",
      "                                                                 \n",
      " block2_conv2 (Conv2D)       (None, 112, 112, 128)     147584    \n",
      "                                                                 \n",
      " block2_pool (MaxPooling2D)  (None, 56, 56, 128)       0         \n",
      "                                                                 \n",
      " block3_conv1 (Conv2D)       (None, 56, 56, 256)       295168    \n",
      "                                                                 \n",
      " block3_conv2 (Conv2D)       (None, 56, 56, 256)       590080    \n",
      "                                                                 \n",
      " block3_conv3 (Conv2D)       (None, 56, 56, 256)       590080    \n",
      "                                                                 \n",
      " block3_pool (MaxPooling2D)  (None, 28, 28, 256)       0         \n",
      "                                                                 \n",
      " block4_conv1 (Conv2D)       (None, 28, 28, 512)       1180160   \n",
      "                                                                 \n",
      " block4_conv2 (Conv2D)       (None, 28, 28, 512)       2359808   \n",
      "                                                                 \n",
      " block4_conv3 (Conv2D)       (None, 28, 28, 512)       2359808   \n",
      "                                                                 \n",
      " block4_pool (MaxPooling2D)  (None, 14, 14, 512)       0         \n",
      "                                                                 \n",
      " block5_conv1 (Conv2D)       (None, 14, 14, 512)       2359808   \n",
      "                                                                 \n",
      " block5_conv2 (Conv2D)       (None, 14, 14, 512)       2359808   \n",
      "                                                                 \n",
      " block5_conv3 (Conv2D)       (None, 14, 14, 512)       2359808   \n",
      "                                                                 \n",
      " block5_pool (MaxPooling2D)  (None, 7, 7, 512)         0         \n",
      "                                                                 \n",
      " global_average_pooling2d_9   (None, 512)              0         \n",
      " (GlobalAveragePooling2D)                                        \n",
      "                                                                 \n",
      "=================================================================\n",
      "Total params: 14,714,688\n",
      "Trainable params: 14,714,688\n",
      "Non-trainable params: 0\n",
      "_________________________________________________________________\n"
     ]
    }
   ],
   "source": [
    "from keras.preprocessing.image import ImageDataGenerator\n",
    "from keras.preprocessing import image\n",
    "from keras.applications import imagenet_utils\n",
    "from keras.applications import vgg16\n",
    "from tensorflow.keras.optimizers import Adam, SGD\n",
    "from keras.metrics import categorical_crossentropy\n",
    "\n",
    "from keras.layers import Dense, Flatten, Dropout, BatchNormalization\n",
    "from keras.models import Model\n",
    "\n",
    "from sklearn.metrics import confusion_matrix\n",
    "import itertools\n",
    "import matplotlib.pyplot as plt\n",
    "%matplotlib inline\n",
    "train_path  = 'C:/Users/subeh/OneDrive/Desktop/deep_learning_for_vision_systems/chapter_06/sign_language_project/dataset/train'\n",
    "valid_path  = 'C:/Users/subeh/OneDrive/Desktop/deep_learning_for_vision_systems/chapter_06/sign_language_project/dataset/valid'\n",
    "test_path  = 'C:/Users/subeh/OneDrive/Desktop/deep_learning_for_vision_systems/chapter_06/sign_language_project/dataset/test'\n",
    "# ImageDataGenerator generates batches of tensor image data with real-time data augmentation. \n",
    "# The data will be looped over (in batches).\n",
    "# in this example, we won't be doing any image augmentation\n",
    "train_batches = ImageDataGenerator().flow_from_directory(train_path, \n",
    "                                                         target_size=(224,224), \n",
    "                                                         batch_size=10)\n",
    "\n",
    "valid_batches = ImageDataGenerator().flow_from_directory(valid_path,\n",
    "                                                         target_size=(224,224), \n",
    "                                                         batch_size=30)\n",
    "\n",
    "test_batches = ImageDataGenerator().flow_from_directory(test_path, \n",
    "                                                        target_size=(224,224), \n",
    "                                                        batch_size=50, \n",
    "                                                        shuffle=False)\n",
    "base_model = vgg16.VGG16(weights = \"imagenet\", include_top=False, input_shape = (224,224, 3), pooling='avg')\n",
    "base_model.summary()"
   ]
  },
  {
   "cell_type": "code",
   "execution_count": 78,
   "id": "0fe9358e",
   "metadata": {},
   "outputs": [
    {
     "name": "stdout",
     "output_type": "stream",
     "text": [
      "Epoch 1/20\n"
     ]
    },
    {
     "name": "stderr",
     "output_type": "stream",
     "text": [
      "C:\\Users\\subeh\\AppData\\Local\\Temp\\ipykernel_15096\\1202332932.py:18: UserWarning: `Model.fit_generator` is deprecated and will be removed in a future version. Please use `Model.fit`, which supports generators.\n",
      "  history = new_model.fit_generator(train_batches, steps_per_epoch=18,\n"
     ]
    },
    {
     "name": "stdout",
     "output_type": "stream",
     "text": [
      "18/18 [==============================] - 76s 4s/step - loss: 3.0929 - accuracy: 0.3556 - val_loss: 1.2493 - val_accuracy: 0.5889\n",
      "Epoch 2/20\n",
      "18/18 [==============================] - 57s 3s/step - loss: 0.8648 - accuracy: 0.7000 - val_loss: 0.6802 - val_accuracy: 0.7222\n",
      "Epoch 3/20\n",
      "18/18 [==============================] - 54s 3s/step - loss: 0.4845 - accuracy: 0.8278 - val_loss: 0.3364 - val_accuracy: 0.8778\n",
      "Epoch 4/20\n",
      "18/18 [==============================] - 54s 3s/step - loss: 0.2358 - accuracy: 0.9222 - val_loss: 0.2087 - val_accuracy: 0.9444\n",
      "Epoch 5/20\n",
      "18/18 [==============================] - 54s 3s/step - loss: 0.2649 - accuracy: 0.9056 - val_loss: 0.2561 - val_accuracy: 0.9000\n",
      "Epoch 6/20\n",
      "18/18 [==============================] - 55s 3s/step - loss: 0.1290 - accuracy: 0.9667 - val_loss: 0.1549 - val_accuracy: 0.9667\n",
      "Epoch 7/20\n",
      "18/18 [==============================] - 54s 3s/step - loss: 0.0780 - accuracy: 0.9884 - val_loss: 0.1585 - val_accuracy: 0.9333\n",
      "Epoch 8/20\n",
      "18/18 [==============================] - 54s 3s/step - loss: 0.0824 - accuracy: 0.9833 - val_loss: 0.1273 - val_accuracy: 0.9444\n",
      "Epoch 9/20\n",
      "18/18 [==============================] - 54s 3s/step - loss: 0.0839 - accuracy: 0.9611 - val_loss: 0.1118 - val_accuracy: 0.9667\n",
      "Epoch 10/20\n",
      "18/18 [==============================] - 53s 3s/step - loss: 0.0443 - accuracy: 0.9833 - val_loss: 0.3140 - val_accuracy: 0.9333\n",
      "Epoch 11/20\n",
      "18/18 [==============================] - 53s 3s/step - loss: 0.0882 - accuracy: 0.9767 - val_loss: 0.1041 - val_accuracy: 0.9778\n",
      "Epoch 12/20\n",
      "18/18 [==============================] - 54s 3s/step - loss: 0.0620 - accuracy: 0.9667 - val_loss: 0.1133 - val_accuracy: 0.9667\n",
      "Epoch 13/20\n",
      "18/18 [==============================] - 56s 3s/step - loss: 0.0670 - accuracy: 0.9778 - val_loss: 0.2384 - val_accuracy: 0.9556\n",
      "Epoch 14/20\n",
      "18/18 [==============================] - 54s 3s/step - loss: 0.1466 - accuracy: 0.9722 - val_loss: 0.1190 - val_accuracy: 0.9556\n",
      "Epoch 15/20\n",
      "18/18 [==============================] - 54s 3s/step - loss: 0.0216 - accuracy: 0.9944 - val_loss: 0.2237 - val_accuracy: 0.9667\n",
      "Epoch 16/20\n",
      "18/18 [==============================] - 55s 3s/step - loss: 0.0391 - accuracy: 0.9944 - val_loss: 0.0288 - val_accuracy: 0.9889\n",
      "Epoch 17/20\n",
      "18/18 [==============================] - 53s 3s/step - loss: 0.0214 - accuracy: 0.9884 - val_loss: 0.0444 - val_accuracy: 0.9889\n",
      "Epoch 18/20\n",
      "18/18 [==============================] - 54s 3s/step - loss: 0.0352 - accuracy: 0.9944 - val_loss: 0.1992 - val_accuracy: 0.9778\n",
      "Epoch 19/20\n",
      "18/18 [==============================] - 56s 3s/step - loss: 0.0303 - accuracy: 0.9833 - val_loss: 0.1312 - val_accuracy: 0.9556\n",
      "Epoch 20/20\n",
      "18/18 [==============================] - 58s 3s/step - loss: 0.0143 - accuracy: 0.9889 - val_loss: 0.0676 - val_accuracy: 0.9667\n",
      "Training time: 1110.850 seconds\n",
      "Training time in minutes: 18.514 minutes\n"
     ]
    }
   ],
   "source": [
    "# iterate through its layers and lock them to make them not trainable with this code\n",
    "for layer in base_model.layers[:-4]:\n",
    "    layer.trainable = False\n",
    "last_layer = base_model.get_layer('global_average_pooling2d_9')\n",
    "\n",
    "last_output = last_layer.output\n",
    "\n",
    "x = Dense(10, activation='softmax', name='softmax')(last_output)\n",
    "\n",
    "new_model = Model(inputs=base_model.input, outputs=x)\n",
    "new_model.compile(Adam(learning_rate=0.0001), loss='categorical_crossentropy', metrics=['accuracy'])\n",
    "import time\n",
    "start_time = time.time()\n",
    "from keras.callbacks import ModelCheckpoint\n",
    "\n",
    "checkpointer = ModelCheckpoint(filepath='signlanguage.model.hdf5', save_best_only=True)\n",
    "\n",
    "history = new_model.fit_generator(train_batches, steps_per_epoch=18,\n",
    "                   validation_data=valid_batches, validation_steps=3, epochs=20, verbose=1, callbacks=[checkpointer])\n",
    "end_time = time.time()\n",
    "train_time_in_minutes = (end_time - start_time) / 60.0\n",
    "train_time = end_time - start_time\n",
    "print(f\"Training time: {train_time:.3f} seconds\")\n",
    "print(f\"Training time in minutes: {train_time_in_minutes:.3f} minutes\")"
   ]
  },
  {
   "cell_type": "code",
   "execution_count": 79,
   "id": "9b28f050",
   "metadata": {},
   "outputs": [
    {
     "name": "stderr",
     "output_type": "stream",
     "text": [
      "100%|█████████████████████████████████████████████████████████████████████████████████| 50/50 [00:00<00:00, 724.78it/s]\n",
      "100%|███████████████████████████████████████████████████████████████████████████████| 300/300 [00:00<00:00, 748.68it/s]\n"
     ]
    },
    {
     "name": "stdout",
     "output_type": "stream",
     "text": [
      "10/10 [==============================] - 51s 5s/step - loss: 0.4172 - accuracy: 0.8767\n",
      "\n",
      "val loss: 0.4172\n",
      "val accuracy: 0.8767\n",
      "2/2 [==============================] - 9s 3s/step - loss: 0.2522 - accuracy: 0.9200\n",
      "\n",
      "Testing loss: 0.2522\n",
      "Testing accuracy: 0.9200\n"
     ]
    }
   ],
   "source": [
    "def load_dataset(path):\n",
    "    data = load_files(path)\n",
    "    paths = np.array(data['filenames'])\n",
    "    targets = np_utils.to_categorical(np.array(data['target']))\n",
    "    return paths, targets\n",
    "from sklearn.datasets import load_files\n",
    "from keras.utils import np_utils\n",
    "import numpy as np\n",
    "\n",
    "test_files, test_targets = load_dataset('C:/Users/subeh/OneDrive/Desktop/deep_learning_for_vision_systems/chapter_06/sign_language_project/dataset/test')\n",
    "valid_files, valid_targets = load_dataset('C:/Users/subeh/OneDrive/Desktop/deep_learning_for_vision_systems/chapter_06/sign_language_project/dataset/valid')\n",
    "\n",
    "from keras.preprocessing import image  \n",
    "from keras.applications.vgg16 import preprocess_input\n",
    "from tensorflow.keras.preprocessing import image #wrire this to solve the error 'image.load_img'\n",
    "from tqdm import tqdm\n",
    "\n",
    "def path_to_tensor(img_path):\n",
    "    # loads RGB image as PIL.Image.Image type\n",
    "    img = image.load_img(img_path, target_size=(224, 224))\n",
    "    # convert PIL.Image.Image type to 3D tensor with shape (224, 224, 3)\n",
    "    x = image.img_to_array(img)\n",
    "    # convert 3D tensor to 4D tensor with shape (1, 224, 224, 3) and return 4D tensor\n",
    "    return np.expand_dims(x, axis=0)\n",
    "\n",
    "def paths_to_tensor(img_paths):\n",
    "    list_of_tensors = [path_to_tensor(img_path) for img_path in tqdm(img_paths)]\n",
    "    return np.vstack(list_of_tensors)\n",
    "\n",
    "test_tensors = preprocess_input(paths_to_tensor(test_files))\n",
    "val_tensors = preprocess_input(paths_to_tensor(valid_files))\n",
    "\n",
    "new_model.load_weights('signlanguage.model.hdf5')\n",
    "print('\\nval loss: {:.4f}\\nval accuracy: {:.4f}'.format(*new_model.evaluate(val_tensors, valid_targets)))\n",
    "print('\\nTesting loss: {:.4f}\\nTesting accuracy: {:.4f}'.format(*new_model.evaluate(test_tensors, test_targets)))"
   ]
  },
  {
   "cell_type": "code",
   "execution_count": null,
   "id": "dc707454",
   "metadata": {},
   "outputs": [],
   "source": [
    "%reset"
   ]
  },
  {
   "cell_type": "code",
   "execution_count": null,
   "id": "d300b152",
   "metadata": {},
   "outputs": [],
   "source": [
    "#-3"
   ]
  },
  {
   "cell_type": "code",
   "execution_count": 80,
   "id": "b8dcc3b2",
   "metadata": {},
   "outputs": [
    {
     "name": "stdout",
     "output_type": "stream",
     "text": [
      "Found 1712 images belonging to 10 classes.\n",
      "Found 300 images belonging to 10 classes.\n",
      "Found 50 images belonging to 10 classes.\n",
      "Model: \"vgg16\"\n",
      "_________________________________________________________________\n",
      " Layer (type)                Output Shape              Param #   \n",
      "=================================================================\n",
      " input_11 (InputLayer)       [(None, 224, 224, 3)]     0         \n",
      "                                                                 \n",
      " block1_conv1 (Conv2D)       (None, 224, 224, 64)      1792      \n",
      "                                                                 \n",
      " block1_conv2 (Conv2D)       (None, 224, 224, 64)      36928     \n",
      "                                                                 \n",
      " block1_pool (MaxPooling2D)  (None, 112, 112, 64)      0         \n",
      "                                                                 \n",
      " block2_conv1 (Conv2D)       (None, 112, 112, 128)     73856     \n",
      "                                                                 \n",
      " block2_conv2 (Conv2D)       (None, 112, 112, 128)     147584    \n",
      "                                                                 \n",
      " block2_pool (MaxPooling2D)  (None, 56, 56, 128)       0         \n",
      "                                                                 \n",
      " block3_conv1 (Conv2D)       (None, 56, 56, 256)       295168    \n",
      "                                                                 \n",
      " block3_conv2 (Conv2D)       (None, 56, 56, 256)       590080    \n",
      "                                                                 \n",
      " block3_conv3 (Conv2D)       (None, 56, 56, 256)       590080    \n",
      "                                                                 \n",
      " block3_pool (MaxPooling2D)  (None, 28, 28, 256)       0         \n",
      "                                                                 \n",
      " block4_conv1 (Conv2D)       (None, 28, 28, 512)       1180160   \n",
      "                                                                 \n",
      " block4_conv2 (Conv2D)       (None, 28, 28, 512)       2359808   \n",
      "                                                                 \n",
      " block4_conv3 (Conv2D)       (None, 28, 28, 512)       2359808   \n",
      "                                                                 \n",
      " block4_pool (MaxPooling2D)  (None, 14, 14, 512)       0         \n",
      "                                                                 \n",
      " block5_conv1 (Conv2D)       (None, 14, 14, 512)       2359808   \n",
      "                                                                 \n",
      " block5_conv2 (Conv2D)       (None, 14, 14, 512)       2359808   \n",
      "                                                                 \n",
      " block5_conv3 (Conv2D)       (None, 14, 14, 512)       2359808   \n",
      "                                                                 \n",
      " block5_pool (MaxPooling2D)  (None, 7, 7, 512)         0         \n",
      "                                                                 \n",
      " global_average_pooling2d_10  (None, 512)              0         \n",
      "  (GlobalAveragePooling2D)                                       \n",
      "                                                                 \n",
      "=================================================================\n",
      "Total params: 14,714,688\n",
      "Trainable params: 14,714,688\n",
      "Non-trainable params: 0\n",
      "_________________________________________________________________\n"
     ]
    }
   ],
   "source": [
    "from keras.preprocessing.image import ImageDataGenerator\n",
    "from keras.preprocessing import image\n",
    "from keras.applications import imagenet_utils\n",
    "from keras.applications import vgg16\n",
    "from tensorflow.keras.optimizers import Adam, SGD\n",
    "from keras.metrics import categorical_crossentropy\n",
    "\n",
    "from keras.layers import Dense, Flatten, Dropout, BatchNormalization\n",
    "from keras.models import Model\n",
    "\n",
    "from sklearn.metrics import confusion_matrix\n",
    "import itertools\n",
    "import matplotlib.pyplot as plt\n",
    "%matplotlib inline\n",
    "train_path  = 'C:/Users/subeh/OneDrive/Desktop/deep_learning_for_vision_systems/chapter_06/sign_language_project/dataset/train'\n",
    "valid_path  = 'C:/Users/subeh/OneDrive/Desktop/deep_learning_for_vision_systems/chapter_06/sign_language_project/dataset/valid'\n",
    "test_path  = 'C:/Users/subeh/OneDrive/Desktop/deep_learning_for_vision_systems/chapter_06/sign_language_project/dataset/test'\n",
    "# ImageDataGenerator generates batches of tensor image data with real-time data augmentation. \n",
    "# The data will be looped over (in batches).\n",
    "# in this example, we won't be doing any image augmentation\n",
    "train_batches = ImageDataGenerator().flow_from_directory(train_path, \n",
    "                                                         target_size=(224,224), \n",
    "                                                         batch_size=10)\n",
    "\n",
    "valid_batches = ImageDataGenerator().flow_from_directory(valid_path,\n",
    "                                                         target_size=(224,224), \n",
    "                                                         batch_size=30)\n",
    "\n",
    "test_batches = ImageDataGenerator().flow_from_directory(test_path, \n",
    "                                                        target_size=(224,224), \n",
    "                                                        batch_size=50, \n",
    "                                                        shuffle=False)\n",
    "base_model = vgg16.VGG16(weights = \"imagenet\", include_top=False, input_shape = (224,224, 3), pooling='avg')\n",
    "base_model.summary()"
   ]
  },
  {
   "cell_type": "code",
   "execution_count": 81,
   "id": "e9de08ff",
   "metadata": {},
   "outputs": [
    {
     "name": "stdout",
     "output_type": "stream",
     "text": [
      "Epoch 1/20\n"
     ]
    },
    {
     "name": "stderr",
     "output_type": "stream",
     "text": [
      "C:\\Users\\subeh\\AppData\\Local\\Temp\\ipykernel_15096\\2371742377.py:18: UserWarning: `Model.fit_generator` is deprecated and will be removed in a future version. Please use `Model.fit`, which supports generators.\n",
      "  history = new_model.fit_generator(train_batches, steps_per_epoch=18,\n"
     ]
    },
    {
     "name": "stdout",
     "output_type": "stream",
     "text": [
      "18/18 [==============================] - 48s 3s/step - loss: 5.2498 - accuracy: 0.2833 - val_loss: 2.7628 - val_accuracy: 0.4889\n",
      "Epoch 2/20\n",
      "18/18 [==============================] - 51s 3s/step - loss: 1.6586 - accuracy: 0.5944 - val_loss: 1.5709 - val_accuracy: 0.6778\n",
      "Epoch 3/20\n",
      "18/18 [==============================] - 54s 3s/step - loss: 1.3343 - accuracy: 0.7111 - val_loss: 0.8487 - val_accuracy: 0.7222\n",
      "Epoch 4/20\n",
      "18/18 [==============================] - 51s 3s/step - loss: 0.4683 - accuracy: 0.8833 - val_loss: 0.8484 - val_accuracy: 0.7444\n",
      "Epoch 5/20\n",
      "18/18 [==============================] - 50s 3s/step - loss: 0.4076 - accuracy: 0.8779 - val_loss: 0.6249 - val_accuracy: 0.8000\n",
      "Epoch 6/20\n",
      "18/18 [==============================] - 51s 3s/step - loss: 0.3577 - accuracy: 0.8944 - val_loss: 0.3572 - val_accuracy: 0.9000\n",
      "Epoch 7/20\n",
      "18/18 [==============================] - 56s 3s/step - loss: 0.0976 - accuracy: 0.9778 - val_loss: 0.3038 - val_accuracy: 0.8889\n",
      "Epoch 8/20\n",
      "18/18 [==============================] - 53s 3s/step - loss: 0.2161 - accuracy: 0.9333 - val_loss: 0.3157 - val_accuracy: 0.9222\n",
      "Epoch 9/20\n",
      "18/18 [==============================] - 56s 3s/step - loss: 0.1464 - accuracy: 0.9500 - val_loss: 0.3876 - val_accuracy: 0.8778\n",
      "Epoch 10/20\n",
      "18/18 [==============================] - 54s 3s/step - loss: 0.1374 - accuracy: 0.9444 - val_loss: 0.4067 - val_accuracy: 0.9000\n",
      "Epoch 11/20\n",
      "18/18 [==============================] - 53s 3s/step - loss: 0.1556 - accuracy: 0.9500 - val_loss: 0.1615 - val_accuracy: 0.9444\n",
      "Epoch 12/20\n",
      "18/18 [==============================] - 53s 3s/step - loss: 0.0949 - accuracy: 0.9667 - val_loss: 0.0709 - val_accuracy: 0.9667\n",
      "Epoch 13/20\n",
      "18/18 [==============================] - 52s 3s/step - loss: 0.0914 - accuracy: 0.9722 - val_loss: 0.1369 - val_accuracy: 0.9444\n",
      "Epoch 14/20\n",
      "18/18 [==============================] - 52s 3s/step - loss: 0.0848 - accuracy: 0.9722 - val_loss: 0.3061 - val_accuracy: 0.9333\n",
      "Epoch 15/20\n",
      "18/18 [==============================] - 54s 3s/step - loss: 0.0753 - accuracy: 0.9667 - val_loss: 0.0674 - val_accuracy: 0.9667\n",
      "Epoch 16/20\n",
      "18/18 [==============================] - 52s 3s/step - loss: 0.0966 - accuracy: 0.9722 - val_loss: 0.1485 - val_accuracy: 0.9667\n",
      "Epoch 17/20\n",
      "18/18 [==============================] - 52s 3s/step - loss: 0.0342 - accuracy: 0.9944 - val_loss: 0.2628 - val_accuracy: 0.9000\n",
      "Epoch 18/20\n",
      "18/18 [==============================] - 52s 3s/step - loss: 0.0954 - accuracy: 0.9556 - val_loss: 0.2178 - val_accuracy: 0.9444\n",
      "Epoch 19/20\n",
      "18/18 [==============================] - 51s 3s/step - loss: 0.0322 - accuracy: 0.9942 - val_loss: 0.1657 - val_accuracy: 0.9556\n",
      "Epoch 20/20\n",
      "18/18 [==============================] - 52s 3s/step - loss: 0.0543 - accuracy: 0.9833 - val_loss: 0.2644 - val_accuracy: 0.9333\n",
      "Training time: 1047.338 seconds\n",
      "Training time in minutes: 17.456 minutes\n"
     ]
    }
   ],
   "source": [
    "# iterate through its layers and lock them to make them not trainable with this code\n",
    "for layer in base_model.layers[:-3]:\n",
    "    layer.trainable = False\n",
    "last_layer = base_model.get_layer('global_average_pooling2d_10')\n",
    "\n",
    "last_output = last_layer.output\n",
    "\n",
    "x = Dense(10, activation='softmax', name='softmax')(last_output)\n",
    "\n",
    "new_model = Model(inputs=base_model.input, outputs=x)\n",
    "new_model.compile(Adam(learning_rate=0.0001), loss='categorical_crossentropy', metrics=['accuracy'])\n",
    "import time\n",
    "start_time = time.time()\n",
    "from keras.callbacks import ModelCheckpoint\n",
    "\n",
    "checkpointer = ModelCheckpoint(filepath='signlanguage.model.hdf5', save_best_only=True)\n",
    "\n",
    "history = new_model.fit_generator(train_batches, steps_per_epoch=18,\n",
    "                   validation_data=valid_batches, validation_steps=3, epochs=20, verbose=1, callbacks=[checkpointer])\n",
    "end_time = time.time()\n",
    "train_time_in_minutes = (end_time - start_time) / 60.0\n",
    "train_time = end_time - start_time\n",
    "print(f\"Training time: {train_time:.3f} seconds\")\n",
    "print(f\"Training time in minutes: {train_time_in_minutes:.3f} minutes\")"
   ]
  },
  {
   "cell_type": "code",
   "execution_count": 82,
   "id": "437c2493",
   "metadata": {},
   "outputs": [
    {
     "name": "stderr",
     "output_type": "stream",
     "text": [
      "100%|█████████████████████████████████████████████████████████████████████████████████| 50/50 [00:00<00:00, 817.47it/s]\n",
      "100%|███████████████████████████████████████████████████████████████████████████████| 300/300 [00:00<00:00, 796.81it/s]\n"
     ]
    },
    {
     "name": "stdout",
     "output_type": "stream",
     "text": [
      "10/10 [==============================] - 51s 5s/step - loss: 0.9238 - accuracy: 0.6967\n",
      "\n",
      "val loss: 0.9238\n",
      "val accuracy: 0.6967\n",
      "2/2 [==============================] - 10s 4s/step - loss: 0.6895 - accuracy: 0.7400\n",
      "\n",
      "Testing loss: 0.6895\n",
      "Testing accuracy: 0.7400\n"
     ]
    }
   ],
   "source": [
    "def load_dataset(path):\n",
    "    data = load_files(path)\n",
    "    paths = np.array(data['filenames'])\n",
    "    targets = np_utils.to_categorical(np.array(data['target']))\n",
    "    return paths, targets\n",
    "from sklearn.datasets import load_files\n",
    "from keras.utils import np_utils\n",
    "import numpy as np\n",
    "\n",
    "test_files, test_targets = load_dataset('C:/Users/subeh/OneDrive/Desktop/deep_learning_for_vision_systems/chapter_06/sign_language_project/dataset/test')\n",
    "valid_files, valid_targets = load_dataset('C:/Users/subeh/OneDrive/Desktop/deep_learning_for_vision_systems/chapter_06/sign_language_project/dataset/valid')\n",
    "\n",
    "from keras.preprocessing import image  \n",
    "from keras.applications.vgg16 import preprocess_input\n",
    "from tensorflow.keras.preprocessing import image #wrire this to solve the error 'image.load_img'\n",
    "from tqdm import tqdm\n",
    "\n",
    "def path_to_tensor(img_path):\n",
    "    # loads RGB image as PIL.Image.Image type\n",
    "    img = image.load_img(img_path, target_size=(224, 224))\n",
    "    # convert PIL.Image.Image type to 3D tensor with shape (224, 224, 3)\n",
    "    x = image.img_to_array(img)\n",
    "    # convert 3D tensor to 4D tensor with shape (1, 224, 224, 3) and return 4D tensor\n",
    "    return np.expand_dims(x, axis=0)\n",
    "\n",
    "def paths_to_tensor(img_paths):\n",
    "    list_of_tensors = [path_to_tensor(img_path) for img_path in tqdm(img_paths)]\n",
    "    return np.vstack(list_of_tensors)\n",
    "\n",
    "test_tensors = preprocess_input(paths_to_tensor(test_files))\n",
    "val_tensors = preprocess_input(paths_to_tensor(valid_files))\n",
    "\n",
    "new_model.load_weights('signlanguage.model.hdf5')\n",
    "print('\\nval loss: {:.4f}\\nval accuracy: {:.4f}'.format(*new_model.evaluate(val_tensors, valid_targets)))\n",
    "print('\\nTesting loss: {:.4f}\\nTesting accuracy: {:.4f}'.format(*new_model.evaluate(test_tensors, test_targets)))"
   ]
  },
  {
   "cell_type": "code",
   "execution_count": null,
   "id": "0222f99f",
   "metadata": {},
   "outputs": [],
   "source": [
    "%reset"
   ]
  },
  {
   "cell_type": "code",
   "execution_count": 83,
   "id": "a79f6bf4",
   "metadata": {},
   "outputs": [
    {
     "data": {
      "image/png": "[encoded data removed]",
      "text/plain": [
       "<Figure size 640x480 with 1 Axes>"
      ]
     },
     "metadata": {},
     "output_type": "display_data"
    }
   ],
   "source": [
    "import matplotlib.pyplot as plt\n",
    "\n",
    "x = [3, 4, 5, 6, 7,8,9,10,11,12,13]\n",
    "y = [0.6967, 0.8767 , 0.93 , 0.9267 , 0.78 , 0.9267 , 0.9733 , 0.83 , 0.94  , 0.68 , 0.59]\n",
    "\n",
    "plt.plot(x, y)\n",
    "plt.xlabel('x')\n",
    "plt.ylabel('y')\n",
    "plt.title('Plot of x vs y')\n",
    "plt.show()"
   ]
  },
  {
   "cell_type": "code",
   "execution_count": null,
   "id": "906d9d36",
   "metadata": {},
   "outputs": [],
   "source": []
  }
 ],
 "metadata": {
  "kernelspec": {
   "display_name": "Python 3 (ipykernel)",
   "language": "python",
   "name": "python3"
  },
  "language_info": {
   "codemirror_mode": {
    "name": "ipython",
    "version": 3
   },
   "file_extension": ".py",
   "mimetype": "text/x-python",
   "name": "python",
   "nbconvert_exporter": "python",
   "pygments_lexer": "ipython3",
   "version": "3.9.16"
  }
 },
 "nbformat": 4,
 "nbformat_minor": 5
}
